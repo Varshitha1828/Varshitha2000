{
  "nbformat": 4,
  "nbformat_minor": 0,
  "metadata": {
    "colab": {
      "provenance": []
    },
    "kernelspec": {
      "name": "python3",
      "display_name": "Python 3"
    },
    "language_info": {
      "name": "python"
    }
  },
  "cells": [
    {
      "cell_type": "markdown",
      "source": [
        "** What is String **\n",
        "\n",
        "     Anything under the quotes called String.\n",
        "   \n",
        "\n"
      ],
      "metadata": {
        "id": "XSKmIqwxWlsS"
      }
    },
    {
      "cell_type": "markdown",
      "source": [
        "**  Memory Allocation of String**\n",
        "\n",
        "     Memory in the string is alloted as a= **data** within th box."
      ],
      "metadata": {
        "id": "sAXRZrzpW69p"
      }
    },
    {
      "cell_type": "code",
      "source": [
        "a='data'      # will save in the memory\n",
        "print(a)      # calling from memory"
      ],
      "metadata": {
        "colab": {
          "base_uri": "https://localhost:8080/"
        },
        "id": "AFy9d5GkXFfD",
        "outputId": "35351e88-2a0c-46da-c72b-6a6cb2908e0e"
      },
      "execution_count": null,
      "outputs": [
        {
          "output_type": "stream",
          "name": "stdout",
          "text": [
            "data\n"
          ]
        }
      ]
    },
    {
      "cell_type": "markdown",
      "source": [
        " ** Indexing of a String**\n",
        "\n",
        "     Naming the string is called Indexing.\n",
        "     \n",
        "     Indexing is given as a=\"data science\" in the box and allocating the numbers for the string as d=a[0], a=a[1]..... in the string."
      ],
      "metadata": {
        "id": "3SPLO_tMX3L6"
      }
    },
    {
      "cell_type": "code",
      "source": [
        "a='data science'\n",
        "print(a[2])"
      ],
      "metadata": {
        "colab": {
          "base_uri": "https://localhost:8080/"
        },
        "id": "Ilc1XxwoYa5G",
        "outputId": "b53fcf56-af26-44fc-c93b-47bae566dd92"
      },
      "execution_count": null,
      "outputs": [
        {
          "output_type": "stream",
          "name": "stdout",
          "text": [
            "t\n"
          ]
        }
      ]
    },
    {
      "cell_type": "code",
      "source": [
        "a='data science'\n",
        "print(a[6])"
      ],
      "metadata": {
        "colab": {
          "base_uri": "https://localhost:8080/"
        },
        "id": "7KDzci8laYAW",
        "outputId": "15ae7a70-8b4f-47ed-e4ab-d96b3eb24073"
      },
      "execution_count": null,
      "outputs": [
        {
          "output_type": "stream",
          "name": "stdout",
          "text": [
            "c\n"
          ]
        }
      ]
    },
    {
      "cell_type": "markdown",
      "source": [
        "** Slicing the String**\n",
        "\n",
        "  \n",
        "     We have Starting and ending points in the slicimg represnted with ':'. It worls as (n-1) tendency ie a1,a2,a3.....an(n-1)."
      ],
      "metadata": {
        "id": "hwlgdYIqZttP"
      }
    },
    {
      "cell_type": "code",
      "source": [
        "a='data science'\n",
        "print(a[2:8])         # here it takes as n-1 where n=8 and n-1=7 so upto 7 how many characters are there they will print"
      ],
      "metadata": {
        "colab": {
          "base_uri": "https://localhost:8080/"
        },
        "id": "bEGvKVvWY_5-",
        "outputId": "1a1c4520-7435-4659-bd76-500a7cdc6fad"
      },
      "execution_count": null,
      "outputs": [
        {
          "output_type": "stream",
          "name": "stdout",
          "text": [
            "ta sci\n"
          ]
        }
      ]
    },
    {
      "cell_type": "code",
      "source": [
        "a='data science'\n",
        "print(a[2:])           # now here from 2nd index it will print upto the last characters"
      ],
      "metadata": {
        "colab": {
          "base_uri": "https://localhost:8080/"
        },
        "id": "pzSF6nWpbEJ4",
        "outputId": "31dc8adf-c1b4-496b-8e49-b49980a6458d"
      },
      "execution_count": null,
      "outputs": [
        {
          "output_type": "stream",
          "name": "stdout",
          "text": [
            "ta science\n"
          ]
        }
      ]
    },
    {
      "cell_type": "code",
      "source": [
        "a='data science'\n",
        "print(a[:6])           # from starting upto (n-1) characters"
      ],
      "metadata": {
        "colab": {
          "base_uri": "https://localhost:8080/"
        },
        "id": "kodkxIsgbT5M",
        "outputId": "276e2dfe-7561-48a1-fdb4-ca043ef8e346"
      },
      "execution_count": null,
      "outputs": [
        {
          "output_type": "stream",
          "name": "stdout",
          "text": [
            "data s\n"
          ]
        }
      ]
    },
    {
      "cell_type": "markdown",
      "source": [
        "** Skipping in the String**\n",
        "\n",
        "     \n",
        "     Skipping the value according the given number like 2,3..."
      ],
      "metadata": {
        "id": "chK4h9j2b2uA"
      }
    },
    {
      "cell_type": "code",
      "source": [
        "a='data science'\n",
        "print(a[: : 2])        # from starting to ending skipping two two characters"
      ],
      "metadata": {
        "colab": {
          "base_uri": "https://localhost:8080/"
        },
        "id": "SEeILcpObj5e",
        "outputId": "4eaa3d34-a37c-4f66-faa8-73fc39d6cfc9"
      },
      "execution_count": null,
      "outputs": [
        {
          "output_type": "stream",
          "name": "stdout",
          "text": [
            "dt cec\n"
          ]
        }
      ]
    },
    {
      "cell_type": "code",
      "source": [
        "a='data science'\n",
        "print(a[: : 3])         # from starting to ending skipping the 3 characters"
      ],
      "metadata": {
        "colab": {
          "base_uri": "https://localhost:8080/"
        },
        "id": "bdP2i1YjcKP2",
        "outputId": "378d2cbd-5a6a-40f5-9f29-d980779c5879"
      },
      "execution_count": null,
      "outputs": [
        {
          "output_type": "stream",
          "name": "stdout",
          "text": [
            "dacn\n"
          ]
        }
      ]
    },
    {
      "cell_type": "markdown",
      "source": [
        "** Proving that String is IMMUtable/Mutable**\n",
        "\n",
        "     Immutable: If the user is not capable of increase or decrease the memory size is called Immutable.\n",
        "     Mutable: If the user is capable of increase or decrease the memory size is called Immutable."
      ],
      "metadata": {
        "id": "suopPpdYcVoU"
      }
    },
    {
      "cell_type": "code",
      "source": [
        "a='data science'\n",
        "a[4]='analyst'     # user is trying to increase the memory size\n",
        "print(a)"
      ],
      "metadata": {
        "colab": {
          "base_uri": "https://localhost:8080/",
          "height": 176
        },
        "id": "ueZmuLOJc4Gn",
        "outputId": "d1598bb2-bf2e-44c0-cecf-f83e9cbc6dfc"
      },
      "execution_count": null,
      "outputs": [
        {
          "output_type": "error",
          "ename": "TypeError",
          "evalue": "'str' object does not support item assignment",
          "traceback": [
            "\u001b[0;31m---------------------------------------------------------------------------\u001b[0m",
            "\u001b[0;31mTypeError\u001b[0m                                 Traceback (most recent call last)",
            "\u001b[0;32m<ipython-input-10-dc65a18a1618>\u001b[0m in \u001b[0;36m<cell line: 0>\u001b[0;34m()\u001b[0m\n\u001b[1;32m      1\u001b[0m \u001b[0ma\u001b[0m\u001b[0;34m=\u001b[0m\u001b[0;34m'data science'\u001b[0m\u001b[0;34m\u001b[0m\u001b[0;34m\u001b[0m\u001b[0m\n\u001b[0;32m----> 2\u001b[0;31m \u001b[0ma\u001b[0m\u001b[0;34m[\u001b[0m\u001b[0;36m4\u001b[0m\u001b[0;34m]\u001b[0m\u001b[0;34m=\u001b[0m\u001b[0;34m'analyst'\u001b[0m     \u001b[0;31m# user is trying to increase the size\u001b[0m\u001b[0;34m\u001b[0m\u001b[0;34m\u001b[0m\u001b[0m\n\u001b[0m\u001b[1;32m      3\u001b[0m \u001b[0mprint\u001b[0m\u001b[0;34m(\u001b[0m\u001b[0ma\u001b[0m\u001b[0;34m)\u001b[0m\u001b[0;34m\u001b[0m\u001b[0;34m\u001b[0m\u001b[0m\n",
            "\u001b[0;31mTypeError\u001b[0m: 'str' object does not support item assignment"
          ]
        }
      ]
    },
    {
      "cell_type": "code",
      "source": [
        "a='data science'\n",
        "a[2]='analyst'      # user is trying to decrease the memory size\n",
        "print(a)"
      ],
      "metadata": {
        "colab": {
          "base_uri": "https://localhost:8080/",
          "height": 176
        },
        "id": "6fu1MR1udM3v",
        "outputId": "6a566d34-6466-4d03-8c42-60a95440d535"
      },
      "execution_count": null,
      "outputs": [
        {
          "output_type": "error",
          "ename": "TypeError",
          "evalue": "'str' object does not support item assignment",
          "traceback": [
            "\u001b[0;31m---------------------------------------------------------------------------\u001b[0m",
            "\u001b[0;31mTypeError\u001b[0m                                 Traceback (most recent call last)",
            "\u001b[0;32m<ipython-input-11-2f86ed1d3615>\u001b[0m in \u001b[0;36m<cell line: 0>\u001b[0;34m()\u001b[0m\n\u001b[1;32m      1\u001b[0m \u001b[0ma\u001b[0m\u001b[0;34m=\u001b[0m\u001b[0;34m'data science'\u001b[0m\u001b[0;34m\u001b[0m\u001b[0;34m\u001b[0m\u001b[0m\n\u001b[0;32m----> 2\u001b[0;31m \u001b[0ma\u001b[0m\u001b[0;34m[\u001b[0m\u001b[0;36m2\u001b[0m\u001b[0;34m]\u001b[0m\u001b[0;34m=\u001b[0m\u001b[0;34m'analyst'\u001b[0m\u001b[0;34m\u001b[0m\u001b[0;34m\u001b[0m\u001b[0m\n\u001b[0m\u001b[1;32m      3\u001b[0m \u001b[0mprint\u001b[0m\u001b[0;34m(\u001b[0m\u001b[0ma\u001b[0m\u001b[0;34m)\u001b[0m\u001b[0;34m\u001b[0m\u001b[0;34m\u001b[0m\u001b[0m\n",
            "\u001b[0;31mTypeError\u001b[0m: 'str' object does not support item assignment"
          ]
        }
      ]
    },
    {
      "cell_type": "markdown",
      "source": [
        "** Hence it is proved that \"String is \"Immutable\" **"
      ],
      "metadata": {
        "id": "8QOLEWEZdeoU"
      }
    }
  ]
}