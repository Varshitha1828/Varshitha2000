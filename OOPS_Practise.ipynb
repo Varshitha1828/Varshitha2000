{
  "nbformat": 4,
  "nbformat_minor": 0,
  "metadata": {
    "colab": {
      "provenance": []
    },
    "kernelspec": {
      "name": "python3",
      "display_name": "Python 3"
    },
    "language_info": {
      "name": "python"
    }
  },
  "cells": [
    {
      "cell_type": "markdown",
      "source": [
        "   OOPS - Object Oriented Programming System\n",
        "\n",
        "   Here we have class and object\n",
        "\n",
        "   Class : We can say it is a collection of functions and variables.\n",
        "   \n",
        "   Object : Instance of class"
      ],
      "metadata": {
        "id": "qFghK0Ymbovr"
      }
    },
    {
      "cell_type": "code",
      "source": [
        "class ECE:   # In ECE class there are two students named a=10, b=50 so incharge is going to call them from the principal cabin\n",
        "  a = 10\n",
        "  b = 50\n",
        "kumar = ECE()    # here ECE is the oject , kumar is the incharge\n",
        "print(kumar.a)\n",
        "print(kumar.b)"
      ],
      "metadata": {
        "colab": {
          "base_uri": "https://localhost:8080/"
        },
        "id": "rX5gvD5rcHym",
        "outputId": "79fa99e3-d3a8-4379-fff0-87819f444e3c"
      },
      "execution_count": 1,
      "outputs": [
        {
          "output_type": "stream",
          "name": "stdout",
          "text": [
            "10\n",
            "50\n"
          ]
        }
      ]
    },
    {
      "cell_type": "code",
      "source": [
        "class MECH:\n",
        "  l = 3\n",
        "  b = 45\n",
        "varshi = MECH()    # here MECH is the object\n",
        "print(varshi.l * varshi.b)\n",
        "\n"
      ],
      "metadata": {
        "colab": {
          "base_uri": "https://localhost:8080/"
        },
        "id": "_R38pYvvcfbP",
        "outputId": "90bb07ce-0a8e-45fa-d388-7c6de9452f7f"
      },
      "execution_count": 2,
      "outputs": [
        {
          "output_type": "stream",
          "name": "stdout",
          "text": [
            "135\n"
          ]
        }
      ]
    },
    {
      "cell_type": "markdown",
      "source": [
        "          If the incharge is absent so we can directly call with the principal"
      ],
      "metadata": {
        "id": "rEsH2gyqc_1V"
      }
    },
    {
      "cell_type": "code",
      "source": [
        "class MECH:   # here MECH itslef is the object we can say\n",
        "  a = 10\n",
        "  b = 20\n",
        "print(MECH.a + MECH.b)"
      ],
      "metadata": {
        "colab": {
          "base_uri": "https://localhost:8080/"
        },
        "id": "YYT9ifKbdLEN",
        "outputId": "561db5c6-8490-4af8-f12c-7cff5163ffa9"
      },
      "execution_count": 3,
      "outputs": [
        {
          "output_type": "stream",
          "name": "stdout",
          "text": [
            "30\n"
          ]
        }
      ]
    },
    {
      "cell_type": "markdown",
      "source": [
        "Let me take an example like it's the first day of college 2 people came and ask the principal where is the CSE class, so principal called the P.A and tell him to show the class."
      ],
      "metadata": {
        "id": "Vu9X7HnoeU0E"
      }
    },
    {
      "cell_type": "code",
      "source": [
        "class CSE:    # CSE is an object it is having right to create variables in a class\n",
        "  pass\n",
        "kumar = CSE()\n",
        "kumar.varshi= 10\n",
        "kumar.sahi = 20\n",
        "print(kumar.varshi + kumar.sahi)"
      ],
      "metadata": {
        "colab": {
          "base_uri": "https://localhost:8080/"
        },
        "id": "Z5PuConyerxY",
        "outputId": "3980282d-eaeb-4e10-fef8-24a2e8094d5d"
      },
      "execution_count": 4,
      "outputs": [
        {
          "output_type": "stream",
          "name": "stdout",
          "text": [
            "30\n"
          ]
        }
      ]
    },
    {
      "cell_type": "code",
      "source": [
        "class CSE:    # here class is alos having right to create variables but within the class istelf\n",
        "  pass\n",
        "CSE.varshi = 10\n",
        "CSE.sahi = 20\n",
        "print(CSE.varshi + CSE.sahi)"
      ],
      "metadata": {
        "colab": {
          "base_uri": "https://localhost:8080/"
        },
        "id": "IT6k-HWAfIer",
        "outputId": "373d8533-3ed4-4259-c709-13432eb2ed32"
      },
      "execution_count": 5,
      "outputs": [
        {
          "output_type": "stream",
          "name": "stdout",
          "text": [
            "30\n"
          ]
        }
      ]
    },
    {
      "cell_type": "markdown",
      "source": [
        "Contructor : its is same like class name only.\n",
        "\n",
        "We have two types of constructors:\n",
        " 1. Non-Parameter Constructor\n",
        " 2. Parameter Constructor"
      ],
      "metadata": {
        "id": "EUwQp90CjNok"
      }
    },
    {
      "cell_type": "code",
      "source": [
        "class CSE:     # its a class\n",
        "  def __init__(self):   #  init is a (constructor). self - inside accepting the thing we given in the print function\n",
        "    print('good morning')\n",
        "\n",
        "kumar = CSE()    # here we are having the incharge named kumar. we are not passing() anything here so it is non-parameter constructor\n"
      ],
      "metadata": {
        "colab": {
          "base_uri": "https://localhost:8080/"
        },
        "id": "MIohmlWCjpEf",
        "outputId": "c9e5063a-2ecb-4d7f-b622-866429f095d9"
      },
      "execution_count": 7,
      "outputs": [
        {
          "output_type": "stream",
          "name": "stdout",
          "text": [
            "good morning\n"
          ]
        }
      ]
    },
    {
      "cell_type": "markdown",
      "source": [
        "In kumar = CSE() here we can have 3 points means 3 things are done here.\n",
        "\n",
        "1. creating incharge for class\n",
        "2. copy of kumar (incharge) will be in constructor\n",
        "3. After that copy automatically the constructor call will happen"
      ],
      "metadata": {
        "id": "6wCTOwIhqnBl"
      }
    },
    {
      "cell_type": "code",
      "source": [
        "class CSE:\n",
        "  def __init__(self,a,b):   # creating constructor\n",
        "    self.a = a\n",
        "    self.b = b\n",
        "kumar = CSE(10,20)    # parameters are passed so parameter constructor\n",
        "print(kumar.a + kumar.b)\n",
        "\n"
      ],
      "metadata": {
        "colab": {
          "base_uri": "https://localhost:8080/"
        },
        "id": "YWZYwBUZrECT",
        "outputId": "452ea271-c7f2-464a-a6a8-d943e7395920"
      },
      "execution_count": 9,
      "outputs": [
        {
          "output_type": "stream",
          "name": "stdout",
          "text": [
            "30\n"
          ]
        }
      ]
    },
    {
      "cell_type": "code",
      "source": [],
      "metadata": {
        "id": "XBQ9WmjArec1"
      },
      "execution_count": null,
      "outputs": []
    }
  ]
}