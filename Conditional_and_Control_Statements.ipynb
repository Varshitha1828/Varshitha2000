{
  "nbformat": 4,
  "nbformat_minor": 0,
  "metadata": {
    "colab": {
      "provenance": []
    },
    "kernelspec": {
      "name": "python3",
      "display_name": "Python 3"
    },
    "language_info": {
      "name": "python"
    }
  },
  "cells": [
    {
      "cell_type": "markdown",
      "source": [
        "  ** Conditional Statements**\n",
        "\n",
        "\n",
        "     1. if\n",
        "     2. else\n",
        "     3. elif\n",
        "     4. break\n",
        "\n",
        "** Control Statements**\n",
        "\n",
        "\n",
        "    1. for loop - non-continuous- how many times we want to rotate. ex: Charminar.\n",
        "\n",
        "    Syntax: for <var> in range(sp:ep): sp-statring point, ep- ending point\n",
        "  \n",
        "    2. while loop - continuous ex: Sloar system\n"
      ],
      "metadata": {
        "id": "WqgQ5uuAhe4y"
      }
    },
    {
      "cell_type": "code",
      "execution_count": 2,
      "metadata": {
        "colab": {
          "base_uri": "https://localhost:8080/"
        },
        "id": "azx0HuUidvjb",
        "outputId": "cf1133bb-0cf2-4aaf-9fd0-723bc69adac7"
      },
      "outputs": [
        {
          "output_type": "stream",
          "name": "stdout",
          "text": [
            "11\n",
            "12\n",
            "13\n",
            "14\n",
            "15\n"
          ]
        }
      ],
      "source": [
        "for i in range(11,16):   # python works as (n-1) rule so up to 5 values it will print\n",
        "  print(i)"
      ]
    },
    {
      "cell_type": "code",
      "source": [
        "for i in range(11,19):    # gm is printed 8 times\n",
        "  print('gm')"
      ],
      "metadata": {
        "colab": {
          "base_uri": "https://localhost:8080/"
        },
        "id": "R3PSWlsVjfaj",
        "outputId": "4941317a-ca4f-4beb-b7ce-dca61a4c4b25"
      },
      "execution_count": 3,
      "outputs": [
        {
          "output_type": "stream",
          "name": "stdout",
          "text": [
            "gm\n",
            "gm\n",
            "gm\n",
            "gm\n",
            "gm\n",
            "gm\n",
            "gm\n",
            "gm\n"
          ]
        }
      ]
    },
    {
      "cell_type": "code",
      "source": [
        "for i in range(19):    # if we wont give sp it will start from 0 to ep as 18\n",
        "  print(i)\n"
      ],
      "metadata": {
        "colab": {
          "base_uri": "https://localhost:8080/"
        },
        "id": "oJsUkdmbj0Ex",
        "outputId": "1066bfd8-881e-4ab5-fb4f-5da1e6b25e95"
      },
      "execution_count": 4,
      "outputs": [
        {
          "output_type": "stream",
          "name": "stdout",
          "text": [
            "0\n",
            "1\n",
            "2\n",
            "3\n",
            "4\n",
            "5\n",
            "6\n",
            "7\n",
            "8\n",
            "9\n",
            "10\n",
            "11\n",
            "12\n",
            "13\n",
            "14\n",
            "15\n",
            "16\n",
            "17\n",
            "18\n"
          ]
        }
      ]
    },
    {
      "cell_type": "code",
      "source": [
        "for i in range(11,14):   # here pass wont do anything because no conditions so will goto print\n",
        "   pass\n",
        "print('Good Afternoon')"
      ],
      "metadata": {
        "colab": {
          "base_uri": "https://localhost:8080/"
        },
        "id": "HVQlItdjkXPZ",
        "outputId": "c2e6aec2-0fa4-4417-8631-23bbb1ffb3a1"
      },
      "execution_count": 5,
      "outputs": [
        {
          "output_type": "stream",
          "name": "stdout",
          "text": [
            "Good Afternoon\n"
          ]
        }
      ]
    },
    {
      "cell_type": "code",
      "source": [
        "print('I am fron Hyd')\n",
        "print('I am from Chennai')\n",
        "a=12\n",
        "print(a)\n",
        "for j in range(1,8):   # from 1 to 7 adding 30 to it(1+30,2+30,3+30...7+30) printing the updated (31,32,33....37) values\n",
        "  print(j+30)   # here adding 30 will be done\n",
        "print('I am from Chennai')"
      ],
      "metadata": {
        "colab": {
          "base_uri": "https://localhost:8080/"
        },
        "id": "Rz8p8EBFlE0c",
        "outputId": "d61af9c2-9ecc-4ff4-bbdf-6d3cdf205a19"
      },
      "execution_count": 6,
      "outputs": [
        {
          "output_type": "stream",
          "name": "stdout",
          "text": [
            "I am fron Hyd\n",
            "I am from Chennai\n",
            "12\n",
            "31\n",
            "32\n",
            "33\n",
            "34\n",
            "35\n",
            "36\n",
            "37\n",
            "I am from Chennai\n"
          ]
        }
      ]
    },
    {
      "cell_type": "code",
      "source": [
        "for i in range(11,18):    # printing the numbers in a horizontal way\n",
        "  print(i,end = '->')"
      ],
      "metadata": {
        "colab": {
          "base_uri": "https://localhost:8080/"
        },
        "id": "51kXo9_1l8Qf",
        "outputId": "cadbdfe8-e4c5-4708-a294-28f710c1352e"
      },
      "execution_count": 7,
      "outputs": [
        {
          "output_type": "stream",
          "name": "stdout",
          "text": [
            "11->12->13->14->15->16->17->"
          ]
        }
      ]
    },
    {
      "cell_type": "markdown",
      "source": [
        "** if, else, elif conditions **\n",
        "\n",
        "\n",
        "    1. if: it is used to write a condition\n",
        "    2. else: it will work only if if wont work\n",
        "    3. elif: inside if we can many elif's if we want\n",
        "\n"
      ],
      "metadata": {
        "id": "ZAINiXsDml8e"
      }
    },
    {
      "cell_type": "code",
      "source": [
        "money = 120000       # here money > ihone so i can buy iphone\n",
        "iphone = 80000\n",
        "if(money>iphone):\n",
        "  print('I can buy iphone')\n",
        "else:\n",
        "  print('I cant buy iphone')"
      ],
      "metadata": {
        "colab": {
          "base_uri": "https://localhost:8080/"
        },
        "id": "gWZe--mhnZdu",
        "outputId": "eac3ff7b-46ea-45dd-968d-eea3945eb874"
      },
      "execution_count": 8,
      "outputs": [
        {
          "output_type": "stream",
          "name": "stdout",
          "text": [
            "I can buy iphone\n"
          ]
        }
      ]
    },
    {
      "cell_type": "code",
      "source": [
        "money = 80000     # here iphone > money so i cant buy iphone\n",
        "iphone = 120000\n",
        "if(money>iphone):\n",
        "  print('I can buy iphone')\n",
        "else:\n",
        "  print('I cant buy iphone')"
      ],
      "metadata": {
        "colab": {
          "base_uri": "https://localhost:8080/"
        },
        "id": "mHGyhxBMn2uQ",
        "outputId": "b9c3bd78-1d8b-4a37-af54-7fd718a438fc"
      },
      "execution_count": 9,
      "outputs": [
        {
          "output_type": "stream",
          "name": "stdout",
          "text": [
            "I cant buy iphone\n"
          ]
        }
      ]
    },
    {
      "cell_type": "code",
      "source": [
        "money =  120000\n",
        "iphone = 100000\n",
        "samsung = 50000\n",
        "vivo = 25000\n",
        "if(money>iphone):\n",
        "  print('I can buy iphone')\n",
        "\n",
        "elif(money>samsung):     # here we are using elif with hoe many conditions we want and printimg the o/p\n",
        "\n",
        " print('I can buy samsung')\n",
        "\n",
        "elif(money>vivo):\n",
        "\n",
        "  print('I can buy vivo')\n",
        "\n",
        "else:\n",
        "  print('I cant buy anything')\n",
        "\n",
        "\n"
      ],
      "metadata": {
        "colab": {
          "base_uri": "https://localhost:8080/"
        },
        "id": "M41OhDI1oXPb",
        "outputId": "436eefbe-e455-499b-bca9-be430e569b3b"
      },
      "execution_count": 41,
      "outputs": [
        {
          "output_type": "stream",
          "name": "stdout",
          "text": [
            "I can buy iphone\n"
          ]
        }
      ]
    },
    {
      "cell_type": "code",
      "source": [
        "# from 11 to 20 find even numbers\n",
        "\n",
        "for i in range(11,21):\n",
        "  if i % 2 == 0:\n",
        "    print(f'Even: {i}')\n",
        "\n"
      ],
      "metadata": {
        "colab": {
          "base_uri": "https://localhost:8080/"
        },
        "id": "93cMPUqvtQct",
        "outputId": "278d695a-bcde-42e9-b041-15332583110e"
      },
      "execution_count": 67,
      "outputs": [
        {
          "output_type": "stream",
          "name": "stdout",
          "text": [
            "Even: 12\n",
            "Even: 14\n",
            "Even: 16\n",
            "Even: 18\n",
            "Even: 20\n"
          ]
        }
      ]
    },
    {
      "cell_type": "code",
      "source": [
        "# from 11 to 20 printing odd numbers\n",
        "\n",
        "for j in range(11,21):\n",
        "  if j%2!=0:\n",
        "    print(f'odd: {j}')\n"
      ],
      "metadata": {
        "colab": {
          "base_uri": "https://localhost:8080/"
        },
        "id": "ZeEG3wRFw3z_",
        "outputId": "2abbaa65-340e-44c7-8706-d9d5552d6e2d"
      },
      "execution_count": 86,
      "outputs": [
        {
          "output_type": "stream",
          "name": "stdout",
          "text": [
            "odd: 11\n",
            "odd: 13\n",
            "odd: 15\n",
            "odd: 17\n",
            "odd: 19\n"
          ]
        }
      ]
    },
    {
      "cell_type": "code",
      "source": [
        "# printing prime numbers between 1 to 100\n",
        "\n",
        "for i in range(1,101):\n",
        "  if i%2 ==0:\n",
        "    print(f'Prime: {i}')\n"
      ],
      "metadata": {
        "colab": {
          "base_uri": "https://localhost:8080/"
        },
        "id": "9mh9uCt5yZWf",
        "outputId": "cb925bc9-c997-4397-89c2-c727afe789d2"
      },
      "execution_count": 88,
      "outputs": [
        {
          "output_type": "stream",
          "name": "stdout",
          "text": [
            "Prime: 2\n",
            "Prime: 4\n",
            "Prime: 6\n",
            "Prime: 8\n",
            "Prime: 10\n",
            "Prime: 12\n",
            "Prime: 14\n",
            "Prime: 16\n",
            "Prime: 18\n",
            "Prime: 20\n",
            "Prime: 22\n",
            "Prime: 24\n",
            "Prime: 26\n",
            "Prime: 28\n",
            "Prime: 30\n",
            "Prime: 32\n",
            "Prime: 34\n",
            "Prime: 36\n",
            "Prime: 38\n",
            "Prime: 40\n",
            "Prime: 42\n",
            "Prime: 44\n",
            "Prime: 46\n",
            "Prime: 48\n",
            "Prime: 50\n",
            "Prime: 52\n",
            "Prime: 54\n",
            "Prime: 56\n",
            "Prime: 58\n",
            "Prime: 60\n",
            "Prime: 62\n",
            "Prime: 64\n",
            "Prime: 66\n",
            "Prime: 68\n",
            "Prime: 70\n",
            "Prime: 72\n",
            "Prime: 74\n",
            "Prime: 76\n",
            "Prime: 78\n",
            "Prime: 80\n",
            "Prime: 82\n",
            "Prime: 84\n",
            "Prime: 86\n",
            "Prime: 88\n",
            "Prime: 90\n",
            "Prime: 92\n",
            "Prime: 94\n",
            "Prime: 96\n",
            "Prime: 98\n",
            "Prime: 100\n"
          ]
        }
      ]
    },
    {
      "cell_type": "code",
      "source": [
        "# for loop in a string: It will iterate how many characters are there that many times\n",
        "\n",
        "a='data scinece'\n",
        "for i in a:\n",
        "  print(i)"
      ],
      "metadata": {
        "colab": {
          "base_uri": "https://localhost:8080/"
        },
        "id": "Y_0HJEJ70uzo",
        "outputId": "90a925ce-50eb-485e-9c00-709512c48192"
      },
      "execution_count": 92,
      "outputs": [
        {
          "output_type": "stream",
          "name": "stdout",
          "text": [
            "d\n",
            "a\n",
            "t\n",
            "a\n",
            " \n",
            "s\n",
            "c\n",
            "i\n",
            "n\n",
            "e\n",
            "c\n",
            "e\n"
          ]
        }
      ]
    },
    {
      "cell_type": "code",
      "source": [
        "a='data science'       # printing its ASCII values\n",
        "for i in a:\n",
        "  print(i,ord(i))"
      ],
      "metadata": {
        "colab": {
          "base_uri": "https://localhost:8080/"
        },
        "id": "UXCL4LT91LXp",
        "outputId": "b278170d-9121-4431-e3e9-5b82987eba7d"
      },
      "execution_count": 94,
      "outputs": [
        {
          "output_type": "stream",
          "name": "stdout",
          "text": [
            "d 100\n",
            "a 97\n",
            "t 116\n",
            "a 97\n",
            "  32\n",
            "s 115\n",
            "c 99\n",
            "i 105\n",
            "e 101\n",
            "n 110\n",
            "c 99\n",
            "e 101\n"
          ]
        }
      ]
    },
    {
      "cell_type": "code",
      "source": [
        "a='data science'\n",
        "print(len(a))"
      ],
      "metadata": {
        "colab": {
          "base_uri": "https://localhost:8080/"
        },
        "id": "Hws9sG5S2VHU",
        "outputId": "c363aea0-9e02-48d9-9ece-86b7747bed1a"
      },
      "execution_count": 95,
      "outputs": [
        {
          "output_type": "stream",
          "name": "stdout",
          "text": [
            "12\n"
          ]
        }
      ]
    },
    {
      "cell_type": "code",
      "source": [
        "# removing vowels     #aeiouAEIOU\n",
        "\n",
        "a='data science'\n",
        "c=''\n",
        "for i in a:\n",
        "  if i not in 'aeiouAEIOU':\n",
        "    c=c+i\n",
        "print(c)\n",
        "\n"
      ],
      "metadata": {
        "colab": {
          "base_uri": "https://localhost:8080/"
        },
        "id": "kuGPeCOd2gQV",
        "outputId": "529e79f6-5f69-409d-a7e5-e0b6cd7f7025"
      },
      "execution_count": 96,
      "outputs": [
        {
          "output_type": "stream",
          "name": "stdout",
          "text": [
            "dt scnc\n"
          ]
        }
      ]
    },
    {
      "cell_type": "code",
      "source": [
        "a='science1865'             # o/p should be 1+8+6+5=20\n",
        "c=0\n",
        "for i in a:\n",
        "  if i.isnumeric():    # it takes only numeric values\n",
        "    c = c + int(i)     # normally it is string so converting it into int\n",
        "print(c)"
      ],
      "metadata": {
        "colab": {
          "base_uri": "https://localhost:8080/"
        },
        "id": "VOOZFfQ44WHq",
        "outputId": "e2426ae1-e453-49a9-8159-a92c709aa9a4"
      },
      "execution_count": 107,
      "outputs": [
        {
          "output_type": "stream",
          "name": "stdout",
          "text": [
            "20\n"
          ]
        }
      ]
    },
    {
      "cell_type": "code",
      "source": [
        "a=[10,20,7,90,49]     # adding the elements in a list\n",
        "c=0\n",
        "for i in a:\n",
        "  c = c + i\n",
        "print(c)"
      ],
      "metadata": {
        "colab": {
          "base_uri": "https://localhost:8080/"
        },
        "id": "fdePqMtt7TEF",
        "outputId": "a4966790-a7e5-4daa-f41b-29e18da4aadf"
      },
      "execution_count": 109,
      "outputs": [
        {
          "output_type": "stream",
          "name": "stdout",
          "text": [
            "176\n"
          ]
        }
      ]
    },
    {
      "cell_type": "code",
      "source": [
        "a=[10,20,90,5,40]     # given list want the index of them like 010 120 290 35 440\n",
        "for i in a:\n",
        "  print(str(a.index(i))+str(i),end=' ')"
      ],
      "metadata": {
        "colab": {
          "base_uri": "https://localhost:8080/"
        },
        "id": "1Fhsr7aU-CQB",
        "outputId": "a3c7b7d5-e5d1-4e58-a19f-af78e57ebbbd"
      },
      "execution_count": 114,
      "outputs": [
        {
          "output_type": "stream",
          "name": "stdout",
          "text": [
            "010 120 290 35 440 "
          ]
        }
      ]
    },
    {
      "cell_type": "code",
      "source": [
        "a=[10,20,90,5,40]    # above one we can use enumerate function, it has \"index,value\" to a number\n",
        "for i,j in enumerate(a):\n",
        "  print(str(i)+str(j),end=' ')"
      ],
      "metadata": {
        "colab": {
          "base_uri": "https://localhost:8080/"
        },
        "id": "dsxe5kgi-6pK",
        "outputId": "7a1cc82a-fbd1-46ef-d68b-e1c14803e385"
      },
      "execution_count": 115,
      "outputs": [
        {
          "output_type": "stream",
          "name": "stdout",
          "text": [
            "010 120 290 35 440 "
          ]
        }
      ]
    }
  ]
}