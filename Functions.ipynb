{
  "nbformat": 4,
  "nbformat_minor": 0,
  "metadata": {
    "colab": {
      "provenance": []
    },
    "kernelspec": {
      "name": "python3",
      "display_name": "Python 3"
    },
    "language_info": {
      "name": "python"
    }
  },
  "cells": [
    {
      "cell_type": "markdown",
      "source": [
        "**Function**\n",
        "\n",
        "     - Function is used to execute a specific task.\n",
        "     - We are going to use functions in python becuase of their reusability.\n",
        "     \n",
        "** There are two types of functions. They are:\n",
        "\n",
        "     1.built-in functions: already python community have that functions\n",
        "     2.user defined functions: user want to use that function according to their needs. The purpose of user defined functions is \"reusability\".\n",
        "\n",
        "** In user defined functions we have 2 types**:\n",
        "\n",
        "    1. Non-parameter\n",
        "    2. parameter\n",
        ""
      ],
      "metadata": {
        "id": "ZgPdjpMmECxG"
      }
    },
    {
      "cell_type": "code",
      "execution_count": 1,
      "metadata": {
        "colab": {
          "base_uri": "https://localhost:8080/"
        },
        "id": "3DMQyWoxC19J",
        "outputId": "0b84836a-a140-4f0a-84d2-c7673c78aaf0"
      },
      "outputs": [
        {
          "output_type": "stream",
          "name": "stdout",
          "text": [
            "good afternoon\n"
          ]
        }
      ],
      "source": [
        "# Non-Parameter functions:\n",
        "# we are not sending anything in the parameters so not accepting anything\n",
        "\n",
        "def varshi():   # defining the function\n",
        "  print('good afternoon')\n",
        "varshi()  # calling the function\n"
      ]
    },
    {
      "cell_type": "code",
      "source": [
        "def varshi():\n",
        "  print('Hai')\n",
        "varshi()"
      ],
      "metadata": {
        "colab": {
          "base_uri": "https://localhost:8080/"
        },
        "id": "V5_kcwRHGxwp",
        "outputId": "f6ab0c37-4b19-4085-d18d-284bd98abbcb"
      },
      "execution_count": 2,
      "outputs": [
        {
          "output_type": "stream",
          "name": "stdout",
          "text": [
            "Hai\n"
          ]
        }
      ]
    },
    {
      "cell_type": "code",
      "source": [
        "# Parameter functions:\n",
        "\n",
        "def varshi(a,b):   # we are assigining the parameters values\n",
        "  print(a*b)\n",
        "\n",
        "varshi(3,4)   # calling the function"
      ],
      "metadata": {
        "colab": {
          "base_uri": "https://localhost:8080/"
        },
        "id": "TogDcVQ1Gxub",
        "outputId": "4ea289cc-39f4-47df-a934-6c6f17c494db"
      },
      "execution_count": 3,
      "outputs": [
        {
          "output_type": "stream",
          "name": "stdout",
          "text": [
            "12\n"
          ]
        }
      ]
    },
    {
      "cell_type": "code",
      "source": [
        "def varshi(x,y,z):   # paasing 3 parameters\n",
        "  print(x*y*z)\n",
        "varshi(3,4,5)"
      ],
      "metadata": {
        "colab": {
          "base_uri": "https://localhost:8080/"
        },
        "id": "3Vn12afkHdOX",
        "outputId": "8aad4c6a-8633-4b8b-82c8-737d1314bd7b"
      },
      "execution_count": 5,
      "outputs": [
        {
          "output_type": "stream",
          "name": "stdout",
          "text": [
            "60\n"
          ]
        }
      ]
    },
    {
      "cell_type": "code",
      "source": [
        "def varshi(d,e,f):\n",
        "  print(d+e+f)\n",
        "varshi(4,5)   # here we are getting error so how many parameters(d,e,f) we passed that many values we should give(4,5 - two values given)"
      ],
      "metadata": {
        "colab": {
          "base_uri": "https://localhost:8080/",
          "height": 176
        },
        "id": "X-szktW-Huhy",
        "outputId": "6a5cf8c0-32af-4864-e2fc-c37ffa7c77af"
      },
      "execution_count": 6,
      "outputs": [
        {
          "output_type": "error",
          "ename": "TypeError",
          "evalue": "varshi() missing 1 required positional argument: 'f'",
          "traceback": [
            "\u001b[0;31m---------------------------------------------------------------------------\u001b[0m",
            "\u001b[0;31mTypeError\u001b[0m                                 Traceback (most recent call last)",
            "\u001b[0;32m<ipython-input-6-71653ccdd0be>\u001b[0m in \u001b[0;36m<cell line: 0>\u001b[0;34m()\u001b[0m\n\u001b[1;32m      1\u001b[0m \u001b[0;32mdef\u001b[0m \u001b[0mvarshi\u001b[0m\u001b[0;34m(\u001b[0m\u001b[0md\u001b[0m\u001b[0;34m,\u001b[0m\u001b[0me\u001b[0m\u001b[0;34m,\u001b[0m\u001b[0mf\u001b[0m\u001b[0;34m)\u001b[0m\u001b[0;34m:\u001b[0m\u001b[0;34m\u001b[0m\u001b[0;34m\u001b[0m\u001b[0m\n\u001b[1;32m      2\u001b[0m   \u001b[0mprint\u001b[0m\u001b[0;34m(\u001b[0m\u001b[0md\u001b[0m\u001b[0;34m+\u001b[0m\u001b[0me\u001b[0m\u001b[0;34m+\u001b[0m\u001b[0mf\u001b[0m\u001b[0;34m)\u001b[0m\u001b[0;34m\u001b[0m\u001b[0;34m\u001b[0m\u001b[0m\n\u001b[0;32m----> 3\u001b[0;31m \u001b[0mvarshi\u001b[0m\u001b[0;34m(\u001b[0m\u001b[0;36m4\u001b[0m\u001b[0;34m,\u001b[0m\u001b[0;36m5\u001b[0m\u001b[0;34m)\u001b[0m\u001b[0;34m\u001b[0m\u001b[0;34m\u001b[0m\u001b[0m\n\u001b[0m",
            "\u001b[0;31mTypeError\u001b[0m: varshi() missing 1 required positional argument: 'f'"
          ]
        }
      ]
    },
    {
      "cell_type": "code",
      "source": [
        "# printing even nos from 11 to 17\n",
        "\n",
        "def func(a,b):\n",
        "  for i in range(11,17):\n",
        "    if i % 2 == 0:\n",
        "      print(f'Even number:{i}')\n",
        "\n",
        "func(11,17)"
      ],
      "metadata": {
        "colab": {
          "base_uri": "https://localhost:8080/"
        },
        "id": "QKx-i43HIHGl",
        "outputId": "7fdcba5c-6b7c-442f-e439-edc3f3103264"
      },
      "execution_count": 8,
      "outputs": [
        {
          "output_type": "stream",
          "name": "stdout",
          "text": [
            "Even number:12\n",
            "Even number:14\n",
            "Even number:16\n"
          ]
        }
      ]
    },
    {
      "cell_type": "code",
      "source": [
        "# printing 6 is a perfect number or not\n",
        "\n",
        "def func(n):\n",
        "  c=0\n",
        "  for i in range(1,n):\n",
        "    if n % i == 0:\n",
        "      c=c+i\n",
        "  if n==c:\n",
        "      print(f'Perfect number:{n}')\n",
        "  else:\n",
        "      print(f'Not a perfect number:{n} ')\n",
        "\n",
        "func(6)\n"
      ],
      "metadata": {
        "colab": {
          "base_uri": "https://localhost:8080/"
        },
        "id": "1G2wDL7vIhRM",
        "outputId": "735e1d8a-ed87-4dd6-82f1-83816c8ae536"
      },
      "execution_count": 11,
      "outputs": [
        {
          "output_type": "stream",
          "name": "stdout",
          "text": [
            "Perfect number:6\n"
          ]
        }
      ]
    },
    {
      "cell_type": "code",
      "source": [
        "func(7)    # we can call how many times we want writing same function"
      ],
      "metadata": {
        "colab": {
          "base_uri": "https://localhost:8080/"
        },
        "id": "fWa8so7XJXSk",
        "outputId": "1fdd2997-b7d5-48e3-e904-d5be1c3d3786"
      },
      "execution_count": 12,
      "outputs": [
        {
          "output_type": "stream",
          "name": "stdout",
          "text": [
            "Not a perfect number:7 \n"
          ]
        }
      ]
    },
    {
      "cell_type": "markdown",
      "source": [
        "** Global variable: We can use that variable inside and outside of the function**\n",
        "\n",
        "** Local variable: We can use this variable only inside of the function**"
      ],
      "metadata": {
        "id": "0hHjbsDbJnI2"
      }
    },
    {
      "cell_type": "code",
      "source": [
        "#Global variable\n",
        "\n",
        "p=50\n",
        "def func():\n",
        "  print(f'I am from inside:{p}')\n",
        "func()\n",
        "print(f'I am from outside:{p}')"
      ],
      "metadata": {
        "colab": {
          "base_uri": "https://localhost:8080/"
        },
        "id": "qEjOXi4_JiwA",
        "outputId": "ef37590c-2d84-440c-a7dd-4a3716d30e4e"
      },
      "execution_count": 13,
      "outputs": [
        {
          "output_type": "stream",
          "name": "stdout",
          "text": [
            "I am from inside:50\n",
            "I am from outside:50\n"
          ]
        }
      ]
    },
    {
      "cell_type": "code",
      "source": [
        "# local variablr\n",
        "\n",
        "def func():\n",
        "  m=60\n",
        "  print(f'I am from inside:{m}')\n",
        "func()\n",
        "print(f'I am from outside:{m}')"
      ],
      "metadata": {
        "colab": {
          "base_uri": "https://localhost:8080/",
          "height": 193
        },
        "id": "ckdCslV7Kesa",
        "outputId": "eada6838-9e1a-4ff0-c357-f08303b78449"
      },
      "execution_count": 15,
      "outputs": [
        {
          "output_type": "stream",
          "name": "stdout",
          "text": [
            "I am from inside:60\n"
          ]
        },
        {
          "output_type": "error",
          "ename": "NameError",
          "evalue": "name 'm' is not defined",
          "traceback": [
            "\u001b[0;31m---------------------------------------------------------------------------\u001b[0m",
            "\u001b[0;31mNameError\u001b[0m                                 Traceback (most recent call last)",
            "\u001b[0;32m<ipython-input-15-e33cfcd43cbf>\u001b[0m in \u001b[0;36m<cell line: 0>\u001b[0;34m()\u001b[0m\n\u001b[1;32m      5\u001b[0m   \u001b[0mprint\u001b[0m\u001b[0;34m(\u001b[0m\u001b[0;34mf'I am from inside:{m}'\u001b[0m\u001b[0;34m)\u001b[0m\u001b[0;34m\u001b[0m\u001b[0;34m\u001b[0m\u001b[0m\n\u001b[1;32m      6\u001b[0m \u001b[0mfunc\u001b[0m\u001b[0;34m(\u001b[0m\u001b[0;34m)\u001b[0m\u001b[0;34m\u001b[0m\u001b[0;34m\u001b[0m\u001b[0m\n\u001b[0;32m----> 7\u001b[0;31m \u001b[0mprint\u001b[0m\u001b[0;34m(\u001b[0m\u001b[0;34mf'I am from outside:{m}'\u001b[0m\u001b[0;34m)\u001b[0m\u001b[0;34m\u001b[0m\u001b[0;34m\u001b[0m\u001b[0m\n\u001b[0m",
            "\u001b[0;31mNameError\u001b[0m: name 'm' is not defined"
          ]
        }
      ]
    },
    {
      "cell_type": "code",
      "source": [
        "\n",
        "# how to make local variable into global variable\n",
        "\n",
        "def func():\n",
        "  global n\n",
        "  n=500\n",
        "  print(f'I am from inside:{n}')\n",
        "func()\n",
        "print(f'I am from outside:{n}')"
      ],
      "metadata": {
        "colab": {
          "base_uri": "https://localhost:8080/"
        },
        "id": "vYRSpydBNUbc",
        "outputId": "842cbdc5-0779-4916-e851-58736b44540c"
      },
      "execution_count": 18,
      "outputs": [
        {
          "output_type": "stream",
          "name": "stdout",
          "text": [
            "I am from inside:500\n",
            "I am from outside:500\n"
          ]
        }
      ]
    },
    {
      "cell_type": "code",
      "source": [
        "# return function: In order to give back the value we want\n",
        "\n",
        "def func(a,b):\n",
        "  c=a+b\n",
        "  return c\n",
        "sol=func(10,30)\n",
        "print(sol)"
      ],
      "metadata": {
        "colab": {
          "base_uri": "https://localhost:8080/"
        },
        "id": "sX5s7SzoN2ZB",
        "outputId": "c58f4e04-f103-4fdb-8bf0-a28bb9052795"
      },
      "execution_count": 19,
      "outputs": [
        {
          "output_type": "stream",
          "name": "stdout",
          "text": [
            "40\n"
          ]
        }
      ]
    }
  ]
}