{
  "nbformat": 4,
  "nbformat_minor": 0,
  "metadata": {
    "colab": {
      "provenance": []
    },
    "kernelspec": {
      "name": "python3",
      "display_name": "Python 3"
    },
    "language_info": {
      "name": "python"
    }
  },
  "cells": [
    {
      "cell_type": "markdown",
      "source": [
        "** Function: It is used to execute a specific task**\n",
        "\n",
        "    There are two types of Functions:\n",
        "      \n",
        "      1. Built-in functions\n",
        "      2.user defined functions\n",
        "\n",
        "Purpose of function is \"Reusability\"\n",
        "\n",
        "     In user defined we have two more functions:\n",
        "      \n",
        "      1. Non-parameter function\n",
        "      2. parameter function"
      ],
      "metadata": {
        "id": "ZHDuHrw5IB0d"
      }
    },
    {
      "cell_type": "code",
      "execution_count": 1,
      "metadata": {
        "colab": {
          "base_uri": "https://localhost:8080/"
        },
        "id": "0baSBEcLH-Pl",
        "outputId": "5c01f462-e2eb-4b4b-c17c-e3e111594d22"
      },
      "outputs": [
        {
          "output_type": "stream",
          "name": "stdout",
          "text": [
            "i am from hyd\n"
          ]
        }
      ],
      "source": [
        "# non-parameter functions\n",
        "\n",
        "def varshi():       # not passing any parameters so not accepting anything here\n",
        "  print(\"i am from hyd\")\n",
        "\n",
        "varshi()   # calling the function"
      ]
    },
    {
      "cell_type": "code",
      "source": [
        "def varshi():\n",
        "  a=10\n",
        "  print(a+30)\n",
        "\n",
        "varshi()   # calling the function"
      ],
      "metadata": {
        "colab": {
          "base_uri": "https://localhost:8080/"
        },
        "id": "09WkpRdzKLOV",
        "outputId": "b2331a5e-6cd4-4e1d-979f-654b1db3bc47"
      },
      "execution_count": 3,
      "outputs": [
        {
          "output_type": "stream",
          "name": "stdout",
          "text": [
            "40\n"
          ]
        }
      ]
    },
    {
      "cell_type": "code",
      "source": [
        "# parameter function\n",
        "\n",
        "def varshi(a,b):     # passing the parameters here\n",
        "  print(a+b)\n",
        "\n",
        "varshi(10,20)   # calling the parameters so that a and b value will come"
      ],
      "metadata": {
        "colab": {
          "base_uri": "https://localhost:8080/"
        },
        "id": "9HBwZlY_KZA3",
        "outputId": "fad9917b-e06c-4312-c4fd-85c4848a551d"
      },
      "execution_count": 25,
      "outputs": [
        {
          "output_type": "stream",
          "name": "stdout",
          "text": [
            "30\n"
          ]
        }
      ]
    },
    {
      "cell_type": "code",
      "source": [
        "varshi(19,20)"
      ],
      "metadata": {
        "colab": {
          "base_uri": "https://localhost:8080/"
        },
        "id": "Q1XxGjz1Nyc5",
        "outputId": "fa1227e8-403b-47bb-85d2-06bde28ca9ae"
      },
      "execution_count": 26,
      "outputs": [
        {
          "output_type": "stream",
          "name": "stdout",
          "text": [
            "39\n"
          ]
        }
      ]
    },
    {
      "cell_type": "code",
      "source": [
        "def varshi(c,d):\n",
        "  print(c*d)\n",
        "\n",
        "varshi(12,14)"
      ],
      "metadata": {
        "colab": {
          "base_uri": "https://localhost:8080/"
        },
        "id": "XtNVgS9xK8zm",
        "outputId": "c1df47a0-0e1d-489b-bb2a-a84e8dda3442"
      },
      "execution_count": 23,
      "outputs": [
        {
          "output_type": "stream",
          "name": "stdout",
          "text": [
            "168\n"
          ]
        }
      ]
    },
    {
      "cell_type": "code",
      "source": [
        "varshi(13,14)"
      ],
      "metadata": {
        "colab": {
          "base_uri": "https://localhost:8080/"
        },
        "id": "Vfha_hx2NrZ6",
        "outputId": "60c0e09b-53f8-4510-b048-a1127d0b7d55"
      },
      "execution_count": 24,
      "outputs": [
        {
          "output_type": "stream",
          "name": "stdout",
          "text": [
            "182\n"
          ]
        }
      ]
    },
    {
      "cell_type": "code",
      "source": [
        "# print the even no's from 11 to 17\n",
        "\n",
        "def varshi(a,b):\n",
        "  for i in range(a,b):\n",
        "    if i % 2 == 0:\n",
        "      print(f'Even number:{i}')\n",
        "\n",
        "varshi(11,17)\n"
      ],
      "metadata": {
        "colab": {
          "base_uri": "https://localhost:8080/"
        },
        "id": "sv06qiQsLOhx",
        "outputId": "bd1ff084-7c0e-4600-e36d-9d073aae1a2e"
      },
      "execution_count": 20,
      "outputs": [
        {
          "output_type": "stream",
          "name": "stdout",
          "text": [
            "Even number:12\n",
            "Even number:14\n",
            "Even number:16\n"
          ]
        }
      ]
    },
    {
      "cell_type": "code",
      "source": [
        "varshi(21,27)"
      ],
      "metadata": {
        "colab": {
          "base_uri": "https://localhost:8080/"
        },
        "id": "i9iiMpxqNIsG",
        "outputId": "459b3773-d78d-4f04-dd52-02affb40eeb1"
      },
      "execution_count": 21,
      "outputs": [
        {
          "output_type": "stream",
          "name": "stdout",
          "text": [
            "Even number:22\n",
            "Even number:24\n",
            "Even number:26\n"
          ]
        }
      ]
    },
    {
      "cell_type": "code",
      "source": [
        "# print given number is a perfect number or not\n",
        "\n",
        "def varshi(n):\n",
        "  c=0\n",
        "  for i in range(1,n):\n",
        "    if n % i == 0:\n",
        "      c = c+i\n",
        "  if n==c:\n",
        "      print(f'Perfect number:{n}')\n",
        "  else:\n",
        "      print(f'Not a perfect number:{n}')\n",
        "\n",
        "varshi(6)\n"
      ],
      "metadata": {
        "colab": {
          "base_uri": "https://localhost:8080/"
        },
        "id": "TDS-Om0zN2iG",
        "outputId": "ca4b3e10-6bae-434b-b747-219411dd38be"
      },
      "execution_count": 34,
      "outputs": [
        {
          "output_type": "stream",
          "name": "stdout",
          "text": [
            "Perfect number:6\n"
          ]
        }
      ]
    },
    {
      "cell_type": "code",
      "source": [
        "varshi(8)"
      ],
      "metadata": {
        "colab": {
          "base_uri": "https://localhost:8080/"
        },
        "id": "lXwxOTHXOvYz",
        "outputId": "88ee8f61-0261-4b55-db00-e2089c3def2d"
      },
      "execution_count": 35,
      "outputs": [
        {
          "output_type": "stream",
          "name": "stdout",
          "text": [
            "Not a perfect number:8\n"
          ]
        }
      ]
    },
    {
      "cell_type": "code",
      "source": [
        "varshi(7)"
      ],
      "metadata": {
        "colab": {
          "base_uri": "https://localhost:8080/"
        },
        "id": "sPbx5GhVPB5E",
        "outputId": "ec098cfc-5060-45e2-ff2b-1738bbb7168e"
      },
      "execution_count": 36,
      "outputs": [
        {
          "output_type": "stream",
          "name": "stdout",
          "text": [
            "Not a perfect number:7\n"
          ]
        }
      ]
    },
    {
      "cell_type": "code",
      "source": [
        "# global variable : function which can be used both inside and outside of the function\n",
        "\n",
        "\n",
        "x=300    # outside declaring\n",
        "def func():\n",
        "  print(f'I am from inside:{x}')\n",
        "\n",
        "func()\n",
        "print(f'I am from outsdie:{x}')"
      ],
      "metadata": {
        "colab": {
          "base_uri": "https://localhost:8080/"
        },
        "id": "vdmJ2c_MPP-u",
        "outputId": "a057819b-61db-41d7-f63a-5bdfe92f8f24"
      },
      "execution_count": 37,
      "outputs": [
        {
          "output_type": "stream",
          "name": "stdout",
          "text": [
            "I am from inside:300\n",
            "I am from outsdie:300\n"
          ]
        }
      ]
    },
    {
      "cell_type": "code",
      "source": [
        "def func():\n",
        "  y=400     # delcaring locally\n",
        "  print(f'I am from inside:{y}')\n",
        "\n",
        "func()\n",
        "print(f'I am from outside:{y}')"
      ],
      "metadata": {
        "colab": {
          "base_uri": "https://localhost:8080/",
          "height": 193
        },
        "id": "9ljGxpZYPv4k",
        "outputId": "6507c3d9-1678-4db2-b7d6-ff54dd9459ea"
      },
      "execution_count": 38,
      "outputs": [
        {
          "output_type": "stream",
          "name": "stdout",
          "text": [
            "I am from inside:400\n"
          ]
        },
        {
          "output_type": "error",
          "ename": "NameError",
          "evalue": "name 'y' is not defined",
          "traceback": [
            "\u001b[0;31m---------------------------------------------------------------------------\u001b[0m",
            "\u001b[0;31mNameError\u001b[0m                                 Traceback (most recent call last)",
            "\u001b[0;32m<ipython-input-38-c19909ded77b>\u001b[0m in \u001b[0;36m<cell line: 0>\u001b[0;34m()\u001b[0m\n\u001b[1;32m      4\u001b[0m \u001b[0;34m\u001b[0m\u001b[0m\n\u001b[1;32m      5\u001b[0m \u001b[0mfunc\u001b[0m\u001b[0;34m(\u001b[0m\u001b[0;34m)\u001b[0m\u001b[0;34m\u001b[0m\u001b[0;34m\u001b[0m\u001b[0m\n\u001b[0;32m----> 6\u001b[0;31m \u001b[0mprint\u001b[0m\u001b[0;34m(\u001b[0m\u001b[0;34mf'I am from outside:{y}'\u001b[0m\u001b[0;34m)\u001b[0m\u001b[0;34m\u001b[0m\u001b[0;34m\u001b[0m\u001b[0m\n\u001b[0m",
            "\u001b[0;31mNameError\u001b[0m: name 'y' is not defined"
          ]
        }
      ]
    },
    {
      "cell_type": "code",
      "source": [
        "\n",
        "# how to make local variable to global\n",
        "\n",
        "def func():\n",
        "  global m\n",
        "  m=900\n",
        "  print(f'I am from inside:{m}')\n",
        "\n",
        "func()\n",
        "print(f'I am from outside:{m}')\n"
      ],
      "metadata": {
        "colab": {
          "base_uri": "https://localhost:8080/"
        },
        "id": "6qPTIAfdQCtd",
        "outputId": "aee70828-0a04-45a8-dd0f-3e144c1b3a50"
      },
      "execution_count": 40,
      "outputs": [
        {
          "output_type": "stream",
          "name": "stdout",
          "text": [
            "I am from inside:900\n",
            "I am from outside:900\n"
          ]
        }
      ]
    },
    {
      "cell_type": "code",
      "source": [
        "# return : returning the value for the user\n",
        "\n",
        "def func(a,b):\n",
        "  c=a+b\n",
        "  return c   # here returing the value we have given\n",
        "\n",
        "var=func(20,30)    # returned value is stored in variable \"var\"\n",
        "print(var)   # printing \"var\""
      ],
      "metadata": {
        "colab": {
          "base_uri": "https://localhost:8080/"
        },
        "id": "764kI_ytQjun",
        "outputId": "29de1bb8-06a1-4af8-d763-38c1f45a9c13"
      },
      "execution_count": 41,
      "outputs": [
        {
          "output_type": "stream",
          "name": "stdout",
          "text": [
            "50\n"
          ]
        }
      ]
    },
    {
      "cell_type": "code",
      "source": [
        "def func(x,y,z):\n",
        "  k=x*y*z\n",
        "  return k\n",
        "\n",
        "res=func(1,2,3)\n",
        "print(res)\n",
        "\n",
        "\n"
      ],
      "metadata": {
        "colab": {
          "base_uri": "https://localhost:8080/"
        },
        "id": "-lPe6ASNRSiO",
        "outputId": "d8cd5e98-bf17-4607-dda8-e2ffb2c96a2c"
      },
      "execution_count": 43,
      "outputs": [
        {
          "output_type": "stream",
          "name": "stdout",
          "text": [
            "6\n"
          ]
        }
      ]
    },
    {
      "cell_type": "code",
      "source": [],
      "metadata": {
        "id": "LbUeuYVaRSb8"
      },
      "execution_count": null,
      "outputs": []
    }
  ]
}