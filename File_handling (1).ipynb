{
  "nbformat": 4,
  "nbformat_minor": 0,
  "metadata": {
    "colab": {
      "provenance": []
    },
    "kernelspec": {
      "name": "python3",
      "display_name": "Python 3"
    },
    "language_info": {
      "name": "python"
    }
  },
  "cells": [
    {
      "cell_type": "markdown",
      "source": [
        "** All the files are done using 'write' mode**"
      ],
      "metadata": {
        "id": "LHgJJU0N8fV3"
      }
    },
    {
      "cell_type": "code",
      "execution_count": 14,
      "metadata": {
        "id": "3nL3cE8D7LVY"
      },
      "outputs": [],
      "source": [
        "a=open('varshi.txt', 'w')     # we opened the file in write mode and written something\n",
        "a.write('I am a married person')\n",
        "a.close()"
      ]
    },
    {
      "cell_type": "code",
      "source": [
        "a=open('varshitha.txt', 'w')  # we opened a new file and written\n",
        "a.write('I have a bestfriend')\n",
        "a.close()"
      ],
      "metadata": {
        "id": "RMr0P0ko7jrt"
      },
      "execution_count": 13,
      "outputs": []
    },
    {
      "cell_type": "code",
      "source": [
        "a=open('varshi.txt', 'w')    # we opened the existing file and saw that it is overide or not\n",
        "a.write('I have a cute sister')\n",
        "a.close()"
      ],
      "metadata": {
        "id": "c57xXErP74lf"
      },
      "execution_count": 12,
      "outputs": []
    },
    {
      "cell_type": "markdown",
      "source": [
        "** add mode **  -  If the file and data is present in the file, he add mode will add the new data into the file."
      ],
      "metadata": {
        "id": "0W5s9YnMs_3U"
      }
    },
    {
      "cell_type": "code",
      "source": [
        "a=open('varshi.txt', 'a')\n",
        "a.write(' I am good')\n",
        "a.close()\n"
      ],
      "metadata": {
        "id": "0L72Upqy8oGJ"
      },
      "execution_count": 8,
      "outputs": []
    },
    {
      "cell_type": "markdown",
      "source": [
        "** read mode **  -  If the file is not there, we cant read the data."
      ],
      "metadata": {
        "id": "efJ5gnueu3XP"
      }
    },
    {
      "cell_type": "code",
      "source": [
        "a=open('varshitha.txt', 'r')\n",
        "print(a.read())"
      ],
      "metadata": {
        "id": "cvOqlxPvuMq_",
        "colab": {
          "base_uri": "https://localhost:8080/"
        },
        "outputId": "aa824695-b29c-4389-915f-8458824ff46c"
      },
      "execution_count": 11,
      "outputs": [
        {
          "output_type": "stream",
          "name": "stdout",
          "text": [
            "I have a bestfriend\n"
          ]
        }
      ]
    },
    {
      "cell_type": "code",
      "source": [
        "import json  # adding dict data into the json file\n",
        "fruits = {'Apple': 20, 'Carrot' : 40, 'Banana': 50}\n",
        "with open('vegetables.json', 'w') as f:\n",
        "  json.dump(fruits,f)"
      ],
      "metadata": {
        "id": "JHEvIhGrwiyD"
      },
      "execution_count": 15,
      "outputs": []
    },
    {
      "cell_type": "code",
      "source": [
        "import json   # created another file and checking\n",
        "with open('fruits.json', 'w') as f:\n",
        "  json.dump(fruits,f)\n"
      ],
      "metadata": {
        "id": "gexS-HEwyOUI"
      },
      "execution_count": 17,
      "outputs": []
    },
    {
      "cell_type": "code",
      "source": [
        "with open('vegetables.json', 'r') as f:\n",
        "  print(json.load(f))\n"
      ],
      "metadata": {
        "colab": {
          "base_uri": "https://localhost:8080/"
        },
        "id": "rAkWxurcyOR2",
        "outputId": "5497c60c-5e0f-46bd-d886-d7a83dbce265"
      },
      "execution_count": 20,
      "outputs": [
        {
          "output_type": "stream",
          "name": "stdout",
          "text": [
            "{'Apple': 20, 'Carrot': 40, 'Banana': 50}\n"
          ]
        }
      ]
    },
    {
      "cell_type": "code",
      "source": [
        "fruits = {'apple': 20, 'banana': 30, 'carrot': 40}\n",
        "sol=json.dumps(fruits)  # dumps will convert dict to str\n",
        "print(sol)\n",
        "print(type(sol))"
      ],
      "metadata": {
        "colab": {
          "base_uri": "https://localhost:8080/"
        },
        "id": "rpNSSi5rzTHS",
        "outputId": "7d08ca3f-5a39-4b11-f62e-f5e33f447f21"
      },
      "execution_count": 22,
      "outputs": [
        {
          "output_type": "stream",
          "name": "stdout",
          "text": [
            "{\"apple\": 20, \"banana\": 30, \"carrot\": 40}\n",
            "<class 'str'>\n"
          ]
        }
      ]
    },
    {
      "cell_type": "code",
      "source": [
        "p=json.loads(sol)  # loads again convert str to dict\n",
        "print(p)\n",
        "print(type(p))"
      ],
      "metadata": {
        "colab": {
          "base_uri": "https://localhost:8080/"
        },
        "id": "nisIbXa1z4uk",
        "outputId": "a2618f14-2ef8-48a0-ac1d-11542f0e6ba5"
      },
      "execution_count": 23,
      "outputs": [
        {
          "output_type": "stream",
          "name": "stdout",
          "text": [
            "{'apple': 20, 'banana': 30, 'carrot': 40}\n",
            "<class 'dict'>\n"
          ]
        }
      ]
    },
    {
      "cell_type": "code",
      "source": [],
      "metadata": {
        "id": "BaCFql2Yz049"
      },
      "execution_count": null,
      "outputs": []
    }
  ]
}