{
  "nbformat": 4,
  "nbformat_minor": 0,
  "metadata": {
    "colab": {
      "provenance": []
    },
    "kernelspec": {
      "name": "python3",
      "display_name": "Python 3"
    },
    "language_info": {
      "name": "python"
    }
  },
  "cells": [
    {
      "cell_type": "code",
      "execution_count": 23,
      "metadata": {
        "colab": {
          "base_uri": "https://localhost:8080/"
        },
        "id": "cHbqIZu9t7eD",
        "outputId": "70905910-816c-459f-f3e0-ad6c4de85bba"
      },
      "outputs": [
        {
          "output_type": "stream",
          "name": "stdout",
          "text": [
            "{'apple': 40, 'carrot': 60, 'banana': 100}\n"
          ]
        }
      ],
      "source": [
        "# Dictionary Comprehensions\n",
        "\n",
        "#syntax : 1\n",
        "fruits = {'apple':20, 'carrot':40, 'banana': 80}\n",
        "\n",
        "print({i:fruits[i]+20 for i in fruits})"
      ]
    },
    {
      "cell_type": "code",
      "source": [
        "# syntax : 2\n",
        "\n",
        "print({i:fruits[i]+20 for i in fruits if fruits[i] % 2 == 0})"
      ],
      "metadata": {
        "colab": {
          "base_uri": "https://localhost:8080/"
        },
        "id": "vWJz2WupwHNZ",
        "outputId": "62290783-433d-4534-ce2e-2e12403d54a8"
      },
      "execution_count": 14,
      "outputs": [
        {
          "output_type": "stream",
          "name": "stdout",
          "text": [
            "{'apple': 40, 'carrot': 60, 'banana': 100}\n"
          ]
        }
      ]
    },
    {
      "cell_type": "code",
      "source": [
        "# syntax : 3\n",
        "\n",
        "print({i:fruits[i]+20 if fruits[i] % 2 == 0 else fruits[i]  for i in fruits})"
      ],
      "metadata": {
        "colab": {
          "base_uri": "https://localhost:8080/"
        },
        "id": "KWiuf_UFygRT",
        "outputId": "2591761c-63ef-4d40-9d00-2dc97c1fe65c"
      },
      "execution_count": 24,
      "outputs": [
        {
          "output_type": "stream",
          "name": "stdout",
          "text": [
            "{'apple': 40, 'carrot': 60, 'banana': 100}\n"
          ]
        }
      ]
    },
    {
      "cell_type": "code",
      "source": [
        "print({i:(j * 3 if j > 25 else j * 2)for i,j in fruits.items()})"
      ],
      "metadata": {
        "colab": {
          "base_uri": "https://localhost:8080/"
        },
        "id": "PpCc7pjS4sGw",
        "outputId": "5270fa51-8d2b-4ad6-e8c2-ad45bd3fa181"
      },
      "execution_count": 25,
      "outputs": [
        {
          "output_type": "stream",
          "name": "stdout",
          "text": [
            "{'apple': 40, 'carrot': 120, 'banana': 240}\n"
          ]
        }
      ]
    }
  ]
}