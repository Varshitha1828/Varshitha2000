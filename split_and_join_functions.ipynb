{
  "nbformat": 4,
  "nbformat_minor": 0,
  "metadata": {
    "colab": {
      "provenance": []
    },
    "kernelspec": {
      "name": "python3",
      "display_name": "Python 3"
    },
    "language_info": {
      "name": "python"
    }
  },
  "cells": [
    {
      "cell_type": "markdown",
      "source": [
        "** Split Function**"
      ],
      "metadata": {
        "id": "vjrMSI-A5fBt"
      }
    },
    {
      "cell_type": "code",
      "execution_count": 3,
      "metadata": {
        "colab": {
          "base_uri": "https://localhost:8080/"
        },
        "id": "sE_s5PCntqvO",
        "outputId": "3647b395-9339-49ee-c476-31f62ff0f1cc"
      },
      "outputs": [
        {
          "output_type": "stream",
          "name": "stdout",
          "text": [
            "['Welcome', 'to', 'the', 'Class']\n"
          ]
        }
      ],
      "source": [
        "a='Welcome to the Class'      # here it splits when there is space\n",
        "b=a.split()\n",
        "print(b)"
      ]
    },
    {
      "cell_type": "code",
      "source": [
        "txt = \"apple#banana#cherry#orange\"          # we have used a separator as \"#\"\n",
        "\n",
        "x = txt.split(\"#\")\n",
        "\n",
        "print(x)"
      ],
      "metadata": {
        "colab": {
          "base_uri": "https://localhost:8080/"
        },
        "id": "mrsBDb4cwQV-",
        "outputId": "2f63f97c-2d92-4fef-ec2b-b4a762beec0c"
      },
      "execution_count": 4,
      "outputs": [
        {
          "output_type": "stream",
          "name": "stdout",
          "text": [
            "['apple', 'banana', 'cherry', 'orange']\n"
          ]
        }
      ]
    },
    {
      "cell_type": "code",
      "source": [
        "a='usa, uk, canada'                # here we used word after space word after space it prints space also\n",
        "b=a.split()\n",
        "print(b)\n"
      ],
      "metadata": {
        "colab": {
          "base_uri": "https://localhost:8080/"
        },
        "id": "3n3Oa07OwwR3",
        "outputId": "5a6acf13-11ba-4abe-eeab-de292e0c475c"
      },
      "execution_count": 11,
      "outputs": [
        {
          "output_type": "stream",
          "name": "stdout",
          "text": [
            "['usa,', 'uk,', 'canada']\n"
          ]
        }
      ]
    },
    {
      "cell_type": "code",
      "source": [
        "a='I am from India'\n",
        "b=a.split()\n",
        "print(b)"
      ],
      "metadata": {
        "colab": {
          "base_uri": "https://localhost:8080/"
        },
        "id": "Lppje23kzd-a",
        "outputId": "0757328b-2893-4564-b558-fd25e8270dcf"
      },
      "execution_count": 13,
      "outputs": [
        {
          "output_type": "stream",
          "name": "stdout",
          "text": [
            "['I', 'am', 'from', 'India']\n"
          ]
        }
      ]
    },
    {
      "cell_type": "code",
      "source": [
        "a='I am.from.India'     # we dont have any space here between am,from,India so how it will be it will print\n",
        "b=a.split()\n",
        "print(b)"
      ],
      "metadata": {
        "colab": {
          "base_uri": "https://localhost:8080/"
        },
        "id": "G_AOM3Rvzosg",
        "outputId": "3a0cdc1e-800b-4b2a-8258-3c0d956156c3"
      },
      "execution_count": 14,
      "outputs": [
        {
          "output_type": "stream",
          "name": "stdout",
          "text": [
            "['I', 'am.from.India']\n"
          ]
        }
      ]
    },
    {
      "cell_type": "code",
      "source": [
        "a='I am.from.India'   # here we are giving , instead of .\n",
        "b=a.split('.')\n",
        "print(b)"
      ],
      "metadata": {
        "colab": {
          "base_uri": "https://localhost:8080/"
        },
        "id": "iSXN14kb0Iyz",
        "outputId": "e4508fe6-1cb4-4e3f-bde8-76d24aed1ddc"
      },
      "execution_count": 15,
      "outputs": [
        {
          "output_type": "stream",
          "name": "stdout",
          "text": [
            "['I am', 'from', 'India']\n"
          ]
        }
      ]
    },
    {
      "cell_type": "markdown",
      "source": [
        "** Join Function**  "
      ],
      "metadata": {
        "id": "CbAfSOM85lfy"
      }
    },
    {
      "cell_type": "code",
      "source": [
        "a=['usa', 'uk', 'india']              # joining the words and not giving space\n",
        "b=''.join(a)\n",
        "print(b)"
      ],
      "metadata": {
        "colab": {
          "base_uri": "https://localhost:8080/"
        },
        "id": "jY-VOoMA5o_l",
        "outputId": "872fd426-a630-4572-edeb-e33b4d2f128a"
      },
      "execution_count": 16,
      "outputs": [
        {
          "output_type": "stream",
          "name": "stdout",
          "text": [
            "usaukindia\n"
          ]
        }
      ]
    },
    {
      "cell_type": "code",
      "source": [
        "a=['usa','uk', 'india']         # now giving space and printing\n",
        "b='-> '.join(a)\n",
        "print(b)"
      ],
      "metadata": {
        "colab": {
          "base_uri": "https://localhost:8080/"
        },
        "id": "U7w87Mwp5_Wh",
        "outputId": "06458131-8e47-409d-f50b-6ca663ad3c53"
      },
      "execution_count": 18,
      "outputs": [
        {
          "output_type": "stream",
          "name": "stdout",
          "text": [
            "usa-> uk-> india\n"
          ]
        }
      ]
    },
    {
      "cell_type": "code",
      "source": [
        "a='usa uk india'\n",
        "\n",
        "b=a.split()\n",
        "\n",
        "print(b)\n",
        "\n",
        "b.append(\"canada\")\n",
        "\n",
        "print(b)\n",
        "\n",
        "c=' '.join(b)\n",
        "\n",
        "print(c)"
      ],
      "metadata": {
        "colab": {
          "base_uri": "https://localhost:8080/"
        },
        "id": "P18QQ0ra6Zc4",
        "outputId": "678d91b1-aecd-49ab-f1f8-dcf970ffa18c"
      },
      "execution_count": 28,
      "outputs": [
        {
          "output_type": "stream",
          "name": "stdout",
          "text": [
            "['usa', 'uk', 'india']\n",
            "['usa', 'uk', 'india', 'canada']\n",
            "usa uk india canada\n"
          ]
        }
      ]
    },
    {
      "cell_type": "markdown",
      "source": [
        "** Interview Question **"
      ],
      "metadata": {
        "id": "asbFcapf-x1Q"
      }
    },
    {
      "cell_type": "code",
      "source": [
        "a='i.love.programming.language'     # output: language.programming.love.i\n",
        "\n",
        "b=a.split('.')                      # where there is dot we are splitting\n",
        "\n",
        "print(b)\n",
        "\n",
        "c=b[: : -1]                         # here we are reversing the list\n",
        "\n",
        "print(c)\n",
        "\n",
        "d='.'.join(c)                       # here we are joining the list\n",
        "\n",
        "print(d)"
      ],
      "metadata": {
        "colab": {
          "base_uri": "https://localhost:8080/"
        },
        "id": "5cM2Qsup-2-G",
        "outputId": "6f13d479-43b3-4a53-ce71-4b37960ad33b"
      },
      "execution_count": 33,
      "outputs": [
        {
          "output_type": "stream",
          "name": "stdout",
          "text": [
            "['i', 'love', 'programming', 'language']\n",
            "['language', 'programming', 'love', 'i']\n",
            "language.programming.love.i\n"
          ]
        }
      ]
    },
    {
      "cell_type": "markdown",
      "source": [
        "** Writing the same code in one line**"
      ],
      "metadata": {
        "id": "A_9FuI3uAPQj"
      }
    },
    {
      "cell_type": "code",
      "source": [
        "'.'.join('i.love.programming.language'.split('.')[: : -1])        # first split and the reverse and then join"
      ],
      "metadata": {
        "colab": {
          "base_uri": "https://localhost:8080/",
          "height": 35
        },
        "id": "oYvRt36BAT5o",
        "outputId": "84e61ce8-3e91-4c96-b7af-c0ef8022ec3a"
      },
      "execution_count": 39,
      "outputs": [
        {
          "output_type": "execute_result",
          "data": {
            "text/plain": [
              "'language.programming.love.i'"
            ],
            "application/vnd.google.colaboratory.intrinsic+json": {
              "type": "string"
            }
          },
          "metadata": {},
          "execution_count": 39
        }
      ]
    },
    {
      "cell_type": "code",
      "source": [
        "a='data science'                  # here we are printing vowels\n",
        "b=a[1]+a[3]+a[7]+a[8]+a[11]\n",
        "print(b)\n",
        ""
      ],
      "metadata": {
        "colab": {
          "base_uri": "https://localhost:8080/"
        },
        "id": "JI1nVho7BPU0",
        "outputId": "a22a4ba7-0194-4972-83d5-c21c08e1e71b"
      },
      "execution_count": 41,
      "outputs": [
        {
          "output_type": "stream",
          "name": "stdout",
          "text": [
            "aaiee\n"
          ]
        }
      ]
    },
    {
      "cell_type": "code",
      "source": [
        "a='data science'                # here we are printing the characters other than vowels\n",
        "b=a[0]+a[2]+a[4]+a[5]+a[6]+a[9]+a[10]\n",
        "print(b)"
      ],
      "metadata": {
        "colab": {
          "base_uri": "https://localhost:8080/"
        },
        "id": "zFbgtstVCNxx",
        "outputId": "46c00057-796d-4f65-ee3c-4e0bc2ab4a4b"
      },
      "execution_count": 42,
      "outputs": [
        {
          "output_type": "stream",
          "name": "stdout",
          "text": [
            "dt scnc\n"
          ]
        }
      ]
    },
    {
      "cell_type": "code",
      "source": [
        "a='data science'      # here we have converted string to list and then join\n",
        "b=list(b)\n",
        "c=''.join(b)\n",
        "print(b)\n",
        "print(c)"
      ],
      "metadata": {
        "colab": {
          "base_uri": "https://localhost:8080/"
        },
        "id": "lBZunrQtCyx8",
        "outputId": "a6842c06-13e4-4cf9-c0be-18f64fff4192"
      },
      "execution_count": 45,
      "outputs": [
        {
          "output_type": "stream",
          "name": "stdout",
          "text": [
            "['d', 't', ' ', 's', 'c', 'n', 'c']\n",
            "dt scnc\n"
          ]
        }
      ]
    },
    {
      "cell_type": "code",
      "source": [
        "a='data science'          # individually removing the vowels and convert them into list and joining them\n",
        "b=list(a)\n",
        "print(b)\n",
        "b.remove('a')\n",
        "b.remove('e')\n",
        "b.remove('i')\n",
        "b.remove('a')\n",
        "b.remove('e')\n",
        "c=''.join(b)\n",
        "print(c)"
      ],
      "metadata": {
        "colab": {
          "base_uri": "https://localhost:8080/"
        },
        "id": "1x6AZD2sF5p1",
        "outputId": "5f82b7af-4308-444e-bc6f-685279e6f365"
      },
      "execution_count": 47,
      "outputs": [
        {
          "output_type": "stream",
          "name": "stdout",
          "text": [
            "['d', 'a', 't', 'a', ' ', 's', 'c', 'i', 'e', 'n', 'c', 'e']\n",
            "dt scnc\n"
          ]
        }
      ]
    }
  ]
}