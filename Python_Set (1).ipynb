{
  "nbformat": 4,
  "nbformat_minor": 0,
  "metadata": {
    "colab": {
      "provenance": []
    },
    "kernelspec": {
      "name": "python3",
      "display_name": "Python 3"
    },
    "language_info": {
      "name": "python"
    }
  },
  "cells": [
    {
      "cell_type": "markdown",
      "source": [
        "**  Python Set **\n",
        "\n",
        "   -- Set representation - {}\n",
        "   \n",
        "   -- set memory allocation is not specified in one location. So it doesnot  have any indexing,slicing and skipping. That is why set is an unordred pair.\n",
        "\n",
        "   -- set doesnot allow any duplicates.\n",
        "   \n",
        "   -- set is Mutable but it cannot take mutables in it."
      ],
      "metadata": {
        "id": "ZLU2Fj9r5WpN"
      }
    },
    {
      "cell_type": "code",
      "execution_count": 1,
      "metadata": {
        "colab": {
          "base_uri": "https://localhost:8080/"
        },
        "id": "0iLRHKpM5A5n",
        "outputId": "964cc823-9a3b-420a-e189-24dc723c46bf"
      },
      "outputs": [
        {
          "output_type": "stream",
          "name": "stdout",
          "text": [
            "{1, 2, 3, 4, 5}\n"
          ]
        }
      ],
      "source": [
        "a={1,2,3,4,5}\n",
        "print(a)"
      ]
    },
    {
      "cell_type": "code",
      "source": [
        "a={10,20,30,40,50}      # here we dont know how set is going to allocate the memory for the variable\n",
        "print(a)"
      ],
      "metadata": {
        "colab": {
          "base_uri": "https://localhost:8080/"
        },
        "id": "Ep9lNh_p6yC7",
        "outputId": "ac7768fd-9bb8-4080-f95a-4367012d6eca"
      },
      "execution_count": 3,
      "outputs": [
        {
          "output_type": "stream",
          "name": "stdout",
          "text": [
            "{50, 20, 40, 10, 30}\n"
          ]
        }
      ]
    },
    {
      "cell_type": "code",
      "source": [
        "a={25,72.3,'data',(1,2,3)}   # iuple is it can take anytype of input as string and tuple is immutable\n",
        "print(a)"
      ],
      "metadata": {
        "colab": {
          "base_uri": "https://localhost:8080/"
        },
        "id": "FwFMy00-63QE",
        "outputId": "287f9ae7-4a1a-4a55-e08c-7a89588bb3b3"
      },
      "execution_count": 4,
      "outputs": [
        {
          "output_type": "stream",
          "name": "stdout",
          "text": [
            "{72.3, 25, (1, 2, 3), 'data'}\n"
          ]
        }
      ]
    },
    {
      "cell_type": "code",
      "source": [
        "print(a[2])     # we are trying to have the index value, no proper allocation of memory so how come indexing be done"
      ],
      "metadata": {
        "colab": {
          "base_uri": "https://localhost:8080/",
          "height": 141
        },
        "id": "Dorfk4MG7BE4",
        "outputId": "4836bfc3-0490-4fed-97d1-3df3ea79a834"
      },
      "execution_count": 5,
      "outputs": [
        {
          "output_type": "error",
          "ename": "TypeError",
          "evalue": "'set' object is not subscriptable",
          "traceback": [
            "\u001b[0;31m---------------------------------------------------------------------------\u001b[0m",
            "\u001b[0;31mTypeError\u001b[0m                                 Traceback (most recent call last)",
            "\u001b[0;32m<ipython-input-5-434ad6561f14>\u001b[0m in \u001b[0;36m<cell line: 0>\u001b[0;34m()\u001b[0m\n\u001b[0;32m----> 1\u001b[0;31m \u001b[0mprint\u001b[0m\u001b[0;34m(\u001b[0m\u001b[0ma\u001b[0m\u001b[0;34m[\u001b[0m\u001b[0;36m2\u001b[0m\u001b[0;34m]\u001b[0m\u001b[0;34m)\u001b[0m\u001b[0;34m\u001b[0m\u001b[0;34m\u001b[0m\u001b[0m\n\u001b[0m",
            "\u001b[0;31mTypeError\u001b[0m: 'set' object is not subscriptable"
          ]
        }
      ]
    },
    {
      "cell_type": "markdown",
      "source": [
        "** Since there is no index, we cannot manullay increase or decrease the memory.\n",
        "  So here comes built-in functions.\n",
        "\n",
        "    \n",
        "    1. add\n",
        "    2. update\n",
        "\n",
        "    -- Used for incerasing the memory\n",
        "\n",
        "    3.pop\n",
        "    4.remove\n",
        "    5.discard\n",
        "\n",
        "    --used for decreasing the memory\n",
        "\n",
        "    Other functions:\n",
        "\n",
        "    6.copy\n",
        "    7.clear\n",
        "    8.union\n",
        "    9.intersection.\n",
        "       \n"
      ],
      "metadata": {
        "id": "hecyziQ87v3_"
      }
    },
    {
      "cell_type": "code",
      "source": [
        "a={10,20,30}    # add can take only one i/p from the user and add randomly in the set\n",
        "a.add(100)\n",
        "print(a)"
      ],
      "metadata": {
        "colab": {
          "base_uri": "https://localhost:8080/"
        },
        "id": "TXbQJP087r5Y",
        "outputId": "355d27f4-d579-4446-b260-7948efb97845"
      },
      "execution_count": 6,
      "outputs": [
        {
          "output_type": "stream",
          "name": "stdout",
          "text": [
            "{100, 10, 20, 30}\n"
          ]
        }
      ]
    },
    {
      "cell_type": "code",
      "source": [
        "a={10,20,30}     # update will take multiple values but that values will be treated as one in the form of list.\n",
        "a.update([50,60,70])\n",
        "print(a)"
      ],
      "metadata": {
        "colab": {
          "base_uri": "https://localhost:8080/"
        },
        "id": "QomXmPXJ7r3I",
        "outputId": "0598ea8e-9466-4058-b570-84d99a74bd27"
      },
      "execution_count": 7,
      "outputs": [
        {
          "output_type": "stream",
          "name": "stdout",
          "text": [
            "{70, 10, 50, 20, 60, 30}\n"
          ]
        }
      ]
    },
    {
      "cell_type": "code",
      "source": [
        "a={10,20,30,40,50}           # randomly it will remove one value\n",
        "a.pop(20)\n",
        "print(a)"
      ],
      "metadata": {
        "colab": {
          "base_uri": "https://localhost:8080/",
          "height": 176
        },
        "id": "ZqMCHYtW9OfK",
        "outputId": "18095fc7-65ee-4e2a-f5f1-d39950af0a59"
      },
      "execution_count": 9,
      "outputs": [
        {
          "output_type": "error",
          "ename": "TypeError",
          "evalue": "set.pop() takes no arguments (1 given)",
          "traceback": [
            "\u001b[0;31m---------------------------------------------------------------------------\u001b[0m",
            "\u001b[0;31mTypeError\u001b[0m                                 Traceback (most recent call last)",
            "\u001b[0;32m<ipython-input-9-7520565dd956>\u001b[0m in \u001b[0;36m<cell line: 0>\u001b[0;34m()\u001b[0m\n\u001b[1;32m      1\u001b[0m \u001b[0ma\u001b[0m\u001b[0;34m=\u001b[0m\u001b[0;34m{\u001b[0m\u001b[0;36m10\u001b[0m\u001b[0;34m,\u001b[0m\u001b[0;36m20\u001b[0m\u001b[0;34m,\u001b[0m\u001b[0;36m30\u001b[0m\u001b[0;34m,\u001b[0m\u001b[0;36m40\u001b[0m\u001b[0;34m,\u001b[0m\u001b[0;36m50\u001b[0m\u001b[0;34m}\u001b[0m           \u001b[0;31m# randomly it will remove one value\u001b[0m\u001b[0;34m\u001b[0m\u001b[0;34m\u001b[0m\u001b[0m\n\u001b[0;32m----> 2\u001b[0;31m \u001b[0ma\u001b[0m\u001b[0;34m.\u001b[0m\u001b[0mpop\u001b[0m\u001b[0;34m(\u001b[0m\u001b[0;36m20\u001b[0m\u001b[0;34m)\u001b[0m\u001b[0;34m\u001b[0m\u001b[0;34m\u001b[0m\u001b[0m\n\u001b[0m\u001b[1;32m      3\u001b[0m \u001b[0mprint\u001b[0m\u001b[0;34m(\u001b[0m\u001b[0ma\u001b[0m\u001b[0;34m)\u001b[0m\u001b[0;34m\u001b[0m\u001b[0;34m\u001b[0m\u001b[0m\n",
            "\u001b[0;31mTypeError\u001b[0m: set.pop() takes no arguments (1 given)"
          ]
        }
      ]
    },
    {
      "cell_type": "code",
      "source": [
        "a={10,20,30,40,50}\n",
        "a.pop()\n",
        "print(a)"
      ],
      "metadata": {
        "colab": {
          "base_uri": "https://localhost:8080/"
        },
        "id": "b0qF9mCu9iEh",
        "outputId": "d97999fe-bc2a-4f90-905a-a18c96e418a9"
      },
      "execution_count": 10,
      "outputs": [
        {
          "output_type": "stream",
          "name": "stdout",
          "text": [
            "{20, 40, 10, 30}\n"
          ]
        }
      ]
    },
    {
      "cell_type": "code",
      "source": [
        "a={10,20,30,40,50}      # if the value is present in the set what the user is given it will remove, if not present it will throw error\n",
        "a.remove(20)\n",
        "print(a)"
      ],
      "metadata": {
        "colab": {
          "base_uri": "https://localhost:8080/"
        },
        "id": "a1ytqJxX9ozK",
        "outputId": "50bedb5d-04ba-44ab-fbd8-36ba0713b610"
      },
      "execution_count": 12,
      "outputs": [
        {
          "output_type": "stream",
          "name": "stdout",
          "text": [
            "{50, 40, 10, 30}\n"
          ]
        }
      ]
    },
    {
      "cell_type": "code",
      "source": [
        "a={10,20,30,40,50}       # here remove func shows error as 200 is not present in the set\n",
        "a.remove(200)\n",
        "print(a)"
      ],
      "metadata": {
        "colab": {
          "base_uri": "https://localhost:8080/",
          "height": 176
        },
        "id": "-Xu2b-HC-DVl",
        "outputId": "c3a48865-12c3-4c28-81db-a3f6dd3af74f"
      },
      "execution_count": 13,
      "outputs": [
        {
          "output_type": "error",
          "ename": "KeyError",
          "evalue": "200",
          "traceback": [
            "\u001b[0;31m---------------------------------------------------------------------------\u001b[0m",
            "\u001b[0;31mKeyError\u001b[0m                                  Traceback (most recent call last)",
            "\u001b[0;32m<ipython-input-13-3580141ed95f>\u001b[0m in \u001b[0;36m<cell line: 0>\u001b[0;34m()\u001b[0m\n\u001b[1;32m      1\u001b[0m \u001b[0ma\u001b[0m\u001b[0;34m=\u001b[0m\u001b[0;34m{\u001b[0m\u001b[0;36m10\u001b[0m\u001b[0;34m,\u001b[0m\u001b[0;36m20\u001b[0m\u001b[0;34m,\u001b[0m\u001b[0;36m30\u001b[0m\u001b[0;34m,\u001b[0m\u001b[0;36m40\u001b[0m\u001b[0;34m,\u001b[0m\u001b[0;36m50\u001b[0m\u001b[0;34m}\u001b[0m\u001b[0;34m\u001b[0m\u001b[0;34m\u001b[0m\u001b[0m\n\u001b[0;32m----> 2\u001b[0;31m \u001b[0ma\u001b[0m\u001b[0;34m.\u001b[0m\u001b[0mremove\u001b[0m\u001b[0;34m(\u001b[0m\u001b[0;36m200\u001b[0m\u001b[0;34m)\u001b[0m\u001b[0;34m\u001b[0m\u001b[0;34m\u001b[0m\u001b[0m\n\u001b[0m\u001b[1;32m      3\u001b[0m \u001b[0mprint\u001b[0m\u001b[0;34m(\u001b[0m\u001b[0ma\u001b[0m\u001b[0;34m)\u001b[0m\u001b[0;34m\u001b[0m\u001b[0;34m\u001b[0m\u001b[0m\n",
            "\u001b[0;31mKeyError\u001b[0m: 200"
          ]
        }
      ]
    },
    {
      "cell_type": "code",
      "source": [
        "a={10,20,30,40,50}     # it will take value from the user, if present will discard, if not it will be silent\n",
        "a.discard(40)\n",
        "print(a)"
      ],
      "metadata": {
        "colab": {
          "base_uri": "https://localhost:8080/"
        },
        "id": "hNdNW5eK-WDN",
        "outputId": "9d41a7c7-94e2-4109-d6ec-8c792481cd84"
      },
      "execution_count": 14,
      "outputs": [
        {
          "output_type": "stream",
          "name": "stdout",
          "text": [
            "{50, 20, 10, 30}\n"
          ]
        }
      ]
    },
    {
      "cell_type": "code",
      "source": [
        "a={10,20,30,40,50}    # here discard remained silent as 300 is not present in the set and printed the same o/p as given in the variable a randomly\n",
        "a.discard(300)\n",
        "print(a)"
      ],
      "metadata": {
        "colab": {
          "base_uri": "https://localhost:8080/"
        },
        "id": "ACe_mpug-o8s",
        "outputId": "8ce4317a-60a0-470b-9866-4a82db39a524"
      },
      "execution_count": 15,
      "outputs": [
        {
          "output_type": "stream",
          "name": "stdout",
          "text": [
            "{50, 20, 40, 10, 30}\n"
          ]
        }
      ]
    },
    {
      "cell_type": "markdown",
      "source": [
        "** So from the above operations we can say that \"Set is Mutable\"\n",
        "\n",
        "\n",
        "\n",
        "\n",
        "\n",
        "\n",
        "\n",
        "\n",
        "\n",
        "\n",
        "\n",
        "\n"
      ],
      "metadata": {
        "id": "kLBY1R74-_DE"
      }
    },
    {
      "cell_type": "code",
      "source": [
        "a={10,20,30,40,50}     # clear func will print empty set as set() as {} comes under dictionary\n",
        "a.clear()\n",
        "print(a)"
      ],
      "metadata": {
        "colab": {
          "base_uri": "https://localhost:8080/"
        },
        "id": "mREd_K2e_q8S",
        "outputId": "63fc1399-a6d8-422f-f480-c346e0f2abdb"
      },
      "execution_count": 16,
      "outputs": [
        {
          "output_type": "stream",
          "name": "stdout",
          "text": [
            "set()\n"
          ]
        }
      ]
    },
    {
      "cell_type": "code",
      "source": [
        "a=set()      # here we can add anything you want\n",
        "a.add(100)\n",
        "a.add(200)\n",
        "print(a)\n"
      ],
      "metadata": {
        "colab": {
          "base_uri": "https://localhost:8080/"
        },
        "id": "_M9QSx22_-VX",
        "outputId": "ab81b836-e945-4394-e649-8489387e42f1"
      },
      "execution_count": 17,
      "outputs": [
        {
          "output_type": "stream",
          "name": "stdout",
          "text": [
            "{200, 100}\n"
          ]
        }
      ]
    },
    {
      "cell_type": "code",
      "source": [
        "a={1,2,3,4,5}     # intersection gives only the common element present in both the sets a and b\n",
        "b={5,6,7,8,9,10}\n",
        "print(a.intersection(b))"
      ],
      "metadata": {
        "colab": {
          "base_uri": "https://localhost:8080/"
        },
        "id": "duQwCUh4ARIv",
        "outputId": "db897e6b-8595-4357-e413-2ab88fcfad45"
      },
      "execution_count": 18,
      "outputs": [
        {
          "output_type": "stream",
          "name": "stdout",
          "text": [
            "{5}\n"
          ]
        }
      ]
    },
    {
      "cell_type": "code",
      "source": [
        "a={1,2,3,4,5,6}     # union takes the values only one time and print the output\n",
        "b={5,6,7,8,9,10}\n",
        "print(a.union(b))"
      ],
      "metadata": {
        "colab": {
          "base_uri": "https://localhost:8080/"
        },
        "id": "UWaiq2eSAgwY",
        "outputId": "afe38559-4c48-4399-e9a9-3b9ecf599df1"
      },
      "execution_count": 19,
      "outputs": [
        {
          "output_type": "stream",
          "name": "stdout",
          "text": [
            "{1, 2, 3, 4, 5, 6, 7, 8, 9, 10}\n"
          ]
        }
      ]
    },
    {
      "cell_type": "code",
      "source": [
        "a={10,20,30,40,50}\n",
        "\n",
        "b=a            # deep copy will print the same whatever in a will effect in b\n",
        "\n",
        "print(a)\n",
        "print(b)\n",
        "\n",
        "print(id(a))\n",
        "print(id(b))\n",
        "\n",
        "a.add(200)\n",
        "\n",
        "print(a)\n",
        "print(b)"
      ],
      "metadata": {
        "colab": {
          "base_uri": "https://localhost:8080/"
        },
        "id": "NY_6cSpDA1jM",
        "outputId": "55249f13-657a-4232-a2a7-4181b105c606"
      },
      "execution_count": 21,
      "outputs": [
        {
          "output_type": "stream",
          "name": "stdout",
          "text": [
            "{50, 20, 40, 10, 30}\n",
            "{50, 20, 40, 10, 30}\n",
            "134514204675424\n",
            "134514204675424\n",
            "{50, 20, 40, 10, 30, 200}\n",
            "{50, 20, 40, 10, 30, 200}\n"
          ]
        }
      ]
    },
    {
      "cell_type": "code",
      "source": [
        "a={10,20,30,40,50}\n",
        "\n",
        "b=a.copy()           # shallow copy will print the different values of a and b\n",
        "\n",
        "print(a)\n",
        "print(b)\n",
        "\n",
        "print(id(a))\n",
        "print(id(b))\n",
        "\n",
        "a.add(200)\n",
        "\n",
        "print(a)\n",
        "print(b)"
      ],
      "metadata": {
        "colab": {
          "base_uri": "https://localhost:8080/"
        },
        "id": "8Oyi5GD6BYT0",
        "outputId": "fa5760a9-6529-424c-f755-c06d5ef546f2"
      },
      "execution_count": 22,
      "outputs": [
        {
          "output_type": "stream",
          "name": "stdout",
          "text": [
            "{50, 20, 40, 10, 30}\n",
            "{50, 20, 40, 10, 30}\n",
            "134514204676768\n",
            "134513903789088\n",
            "{50, 20, 40, 10, 30, 200}\n",
            "{50, 20, 40, 10, 30}\n"
          ]
        }
      ]
    }
  ]
}