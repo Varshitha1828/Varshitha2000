{
  "nbformat": 4,
  "nbformat_minor": 0,
  "metadata": {
    "colab": {
      "provenance": []
    },
    "kernelspec": {
      "name": "python3",
      "display_name": "Python 3"
    },
    "language_info": {
      "name": "python"
    }
  },
  "cells": [
    {
      "cell_type": "markdown",
      "source": [
        "** Lambda functions**\n",
        "\n",
        "   \n",
        "  --- this function is also known as anonymous function which means it doesnot\n",
        "   have a function name.\n",
        "\n",
        "**Syntax**\n",
        "\n",
        "   lambda arguments : expressions\n",
        "\n",
        "   -- the variable which is holding the lambda we can call that variable.\n",
        "\n"
      ],
      "metadata": {
        "id": "BZJKc6lrPS7o"
      }
    },
    {
      "cell_type": "code",
      "execution_count": 1,
      "metadata": {
        "colab": {
          "base_uri": "https://localhost:8080/"
        },
        "id": "JFgZhc1pPFrT",
        "outputId": "6584f122-f38b-4bff-c2fc-4859f1d17c14"
      },
      "outputs": [
        {
          "output_type": "stream",
          "name": "stdout",
          "text": [
            "200\n"
          ]
        }
      ],
      "source": [
        "c = lambda x,y : x*y\n",
        "print(c(10,20))"
      ]
    },
    {
      "cell_type": "code",
      "source": [
        "# print the table using lambda\n",
        "\n",
        "c = lambda x,y : x*y\n",
        "n=2\n",
        "for i in range(1,11):\n",
        "  print(f'{n} * {i} = {c(n,i)}')\n"
      ],
      "metadata": {
        "colab": {
          "base_uri": "https://localhost:8080/"
        },
        "id": "7nhD1NmhQZIo",
        "outputId": "5bbb39ab-3a0b-4255-950e-d608af8abf41"
      },
      "execution_count": 3,
      "outputs": [
        {
          "output_type": "stream",
          "name": "stdout",
          "text": [
            "2 * 1 = 2\n",
            "2 * 2 = 4\n",
            "2 * 3 = 6\n",
            "2 * 4 = 8\n",
            "2 * 5 = 10\n",
            "2 * 6 = 12\n",
            "2 * 7 = 14\n",
            "2 * 8 = 16\n",
            "2 * 9 = 18\n",
            "2 * 10 = 20\n"
          ]
        }
      ]
    },
    {
      "cell_type": "code",
      "source": [
        "def func(n):    # using normal fumctions\n",
        "  n=3\n",
        "  for i in range(1,11):\n",
        "    print(f'{n} * {i} = {n*i}')\n",
        "func(3)"
      ],
      "metadata": {
        "colab": {
          "base_uri": "https://localhost:8080/"
        },
        "id": "GYrlwAnZRPVE",
        "outputId": "86b8ef99-d6b2-443d-f934-557a1d2d4df5"
      },
      "execution_count": 5,
      "outputs": [
        {
          "output_type": "stream",
          "name": "stdout",
          "text": [
            "3 * 1 = 3\n",
            "3 * 2 = 6\n",
            "3 * 3 = 9\n",
            "3 * 4 = 12\n",
            "3 * 5 = 15\n",
            "3 * 6 = 18\n",
            "3 * 7 = 21\n",
            "3 * 8 = 24\n",
            "3 * 9 = 27\n",
            "3 * 10 = 30\n"
          ]
        }
      ]
    },
    {
      "cell_type": "markdown",
      "source": [
        "** Map function**\n",
        "\n",
        "   Syntax: map(function,iterables)"
      ],
      "metadata": {
        "id": "7Pw1l1aVSPgM"
      }
    },
    {
      "cell_type": "code",
      "source": [
        "def varshi(b):\n",
        "  if b % 2 == 0:\n",
        "    return b\n",
        "  else:\n",
        "    return \"Not found\"\n",
        "\n",
        "sol = map(varshi,[10,15,329,40,50])\n",
        "print(list(sol))"
      ],
      "metadata": {
        "colab": {
          "base_uri": "https://localhost:8080/"
        },
        "id": "RzVEmJHtR1rn",
        "outputId": "61722fa3-29b9-4923-cfce-9643689332b3"
      },
      "execution_count": 16,
      "outputs": [
        {
          "output_type": "stream",
          "name": "stdout",
          "text": [
            "[10, 'Not found', 'Not found', 40, 50]\n"
          ]
        }
      ]
    },
    {
      "cell_type": "markdown",
      "source": [
        "** Filter function**\n",
        "\n",
        "  Syntax: filter(function,iterables)"
      ],
      "metadata": {
        "id": "pGZD43W2WdlB"
      }
    },
    {
      "cell_type": "code",
      "source": [
        "def varshi(n):\n",
        "  for i in range(10,20):\n",
        "     if n % 2 == 0:\n",
        "       return n\n",
        "\n",
        "sol=filter(varshi, [10,19,29,40,50])    # it will filter the values and gives us the o/p\n",
        "print(list(sol))"
      ],
      "metadata": {
        "colab": {
          "base_uri": "https://localhost:8080/"
        },
        "id": "w66NSmGUWtUM",
        "outputId": "1b635ab3-80f0-49ad-bffc-abf66b6fbe1b"
      },
      "execution_count": 18,
      "outputs": [
        {
          "output_type": "stream",
          "name": "stdout",
          "text": [
            "[10, 40, 50]\n"
          ]
        }
      ]
    },
    {
      "cell_type": "markdown",
      "source": [
        "** Reduce function**\n",
        "\n",
        "     - we have to import \"functools\" library for usimg reduce function\n"
      ],
      "metadata": {
        "id": "PVQHzLK7Zm-J"
      }
    },
    {
      "cell_type": "code",
      "source": [
        "import functools\n",
        "\n",
        "functools.reduce(lambda x,y : x+y, [1,4,8,9,11,18])"
      ],
      "metadata": {
        "colab": {
          "base_uri": "https://localhost:8080/"
        },
        "id": "--04rO1QaAcC",
        "outputId": "56935631-25ef-4645-d3aa-a80f4c510552"
      },
      "execution_count": 19,
      "outputs": [
        {
          "output_type": "execute_result",
          "data": {
            "text/plain": [
              "51"
            ]
          },
          "metadata": {},
          "execution_count": 19
        }
      ]
    },
    {
      "cell_type": "code",
      "source": [
        "import functools\n",
        "\n",
        "functools.reduce(lambda a,b : a*b, [11,2,3,45,6,7])"
      ],
      "metadata": {
        "colab": {
          "base_uri": "https://localhost:8080/"
        },
        "id": "I5j129vWaQRx",
        "outputId": "e2c4f055-8f3d-44d2-e7e0-7b0fa2689e6f"
      },
      "execution_count": 22,
      "outputs": [
        {
          "output_type": "execute_result",
          "data": {
            "text/plain": [
              "124740"
            ]
          },
          "metadata": {},
          "execution_count": 22
        }
      ]
    },
    {
      "cell_type": "code",
      "source": [
        "# map with filter\n",
        "\n",
        "a=map(lambda x : x + 20, filter(lambda x : x % 2 == 0, [10,35,60,78,6]))\n",
        "print(list(a))"
      ],
      "metadata": {
        "colab": {
          "base_uri": "https://localhost:8080/"
        },
        "id": "rTUk0hxvbMtb",
        "outputId": "6f904d1f-4e20-461a-9d8a-bac7ee1006e4"
      },
      "execution_count": 24,
      "outputs": [
        {
          "output_type": "stream",
          "name": "stdout",
          "text": [
            "[30, 80, 98, 26]\n"
          ]
        }
      ]
    },
    {
      "cell_type": "code",
      "source": [
        "#filter with map\n",
        "\n",
        "a=filter(lambda x : x + 20, map(lambda x : x % 2 == 0, [10,35,60,78,6]))\n",
        "print(list(a))"
      ],
      "metadata": {
        "colab": {
          "base_uri": "https://localhost:8080/"
        },
        "id": "fuD8VBjybmsk",
        "outputId": "3065b0e6-b00f-4c8f-e923-b288fddd3dcd"
      },
      "execution_count": 25,
      "outputs": [
        {
          "output_type": "stream",
          "name": "stdout",
          "text": [
            "[True, False, True, True, True]\n"
          ]
        }
      ]
    }
  ]
}