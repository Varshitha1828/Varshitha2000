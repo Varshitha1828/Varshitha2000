{
  "nbformat": 4,
  "nbformat_minor": 0,
  "metadata": {
    "colab": {
      "provenance": []
    },
    "kernelspec": {
      "name": "python3",
      "display_name": "Python 3"
    },
    "language_info": {
      "name": "python"
    }
  },
  "cells": [
    {
      "cell_type": "markdown",
      "source": [
        "** What is List and its Representation**\n",
        "   \n",
        "     Anything under [ ] is called List. List means [ ] List can take anytype of data."
      ],
      "metadata": {
        "id": "4KzdPJNPqkm0"
      }
    },
    {
      "cell_type": "code",
      "source": [
        "a=[10,'data',22.45,True]\n",
        "print(a)"
      ],
      "metadata": {
        "colab": {
          "base_uri": "https://localhost:8080/"
        },
        "id": "T72dq8Tksygx",
        "outputId": "57a1b8bd-d578-4799-8273-7ca64db1b6f5"
      },
      "execution_count": 5,
      "outputs": [
        {
          "output_type": "stream",
          "name": "stdout",
          "text": [
            "[10, 'data', 22.45, True]\n"
          ]
        }
      ]
    },
    {
      "cell_type": "code",
      "execution_count": 1,
      "metadata": {
        "colab": {
          "base_uri": "https://localhost:8080/"
        },
        "id": "ZPbBgF6OqGUt",
        "outputId": "4da7558d-e8fe-4e86-ca31-f92c16cfff9d"
      },
      "outputs": [
        {
          "output_type": "stream",
          "name": "stdout",
          "text": [
            "[10, 20, 30, 40, 50]\n"
          ]
        }
      ],
      "source": [
        "a=[10,20,30,40,50]\n",
        "print(a)"
      ]
    },
    {
      "cell_type": "markdown",
      "source": [
        "** Same like String List also have memory allocation, Indexing and so on **"
      ],
      "metadata": {
        "id": "gDVf8QHsrHU7"
      }
    },
    {
      "cell_type": "code",
      "source": [
        "a=[10,20,30,40,50]            # it is also allocated in the memory as index values\n",
        "print(a)"
      ],
      "metadata": {
        "colab": {
          "base_uri": "https://localhost:8080/"
        },
        "id": "aijKlAZNrrEN",
        "outputId": "98ce33fd-1f33-4b77-9434-5c4a0d02496b"
      },
      "execution_count": 2,
      "outputs": [
        {
          "output_type": "stream",
          "name": "stdout",
          "text": [
            "[10, 20, 30, 40, 50]\n"
          ]
        }
      ]
    },
    {
      "cell_type": "markdown",
      "source": [
        "** List Indexing**"
      ],
      "metadata": {
        "id": "o4nSsAZvsN76"
      }
    },
    {
      "cell_type": "code",
      "source": [
        "a=[10,20,30,40,50]\n",
        "print(a[2])"
      ],
      "metadata": {
        "colab": {
          "base_uri": "https://localhost:8080/"
        },
        "id": "E8fswAImsRWU",
        "outputId": "1a1aefad-474e-4774-acad-15408b7c7986"
      },
      "execution_count": 3,
      "outputs": [
        {
          "output_type": "stream",
          "name": "stdout",
          "text": [
            "30\n"
          ]
        }
      ]
    },
    {
      "cell_type": "code",
      "source": [
        "a=[10,'data',22.45,True]\n",
        "print(a[1])"
      ],
      "metadata": {
        "colab": {
          "base_uri": "https://localhost:8080/"
        },
        "id": "e3wz9mrosQkZ",
        "outputId": "661af8a0-b2fd-4137-cfc1-0fd28ea2d59b"
      },
      "execution_count": 7,
      "outputs": [
        {
          "output_type": "stream",
          "name": "stdout",
          "text": [
            "data\n"
          ]
        }
      ]
    },
    {
      "cell_type": "code",
      "source": [
        "a=[10,'data',22.45,True]\n",
        "print(a[1][1])"
      ],
      "metadata": {
        "colab": {
          "base_uri": "https://localhost:8080/"
        },
        "id": "urV3K62ltA5j",
        "outputId": "e704558a-f89b-43bc-9fbb-1ac3efe467a7"
      },
      "execution_count": 8,
      "outputs": [
        {
          "output_type": "stream",
          "name": "stdout",
          "text": [
            "a\n"
          ]
        }
      ]
    },
    {
      "cell_type": "code",
      "source": [
        "a=[10,'data',22.45,True,10,20,30]\n",
        "print(a[2:5])"
      ],
      "metadata": {
        "colab": {
          "base_uri": "https://localhost:8080/"
        },
        "id": "DpcP5DYRtH7l",
        "outputId": "2be5415c-d1f5-46ba-b4e3-a5ad34c65ed2"
      },
      "execution_count": 10,
      "outputs": [
        {
          "output_type": "stream",
          "name": "stdout",
          "text": [
            "[22.45, True, 10]\n"
          ]
        }
      ]
    },
    {
      "cell_type": "code",
      "source": [
        "a=[10,'data',22.45,True,10,20,30]\n",
        "print(a[:5])"
      ],
      "metadata": {
        "colab": {
          "base_uri": "https://localhost:8080/"
        },
        "id": "nWaSk23VtiSJ",
        "outputId": "73814920-b13f-4d24-cdd5-61ec2270a6a3"
      },
      "execution_count": 11,
      "outputs": [
        {
          "output_type": "stream",
          "name": "stdout",
          "text": [
            "[10, 'data', 22.45, True, 10]\n"
          ]
        }
      ]
    },
    {
      "cell_type": "code",
      "source": [
        "a=[10,'data',22.45,True,10,20,30]\n",
        "print(a[1:])"
      ],
      "metadata": {
        "colab": {
          "base_uri": "https://localhost:8080/"
        },
        "id": "56Upx141toYl",
        "outputId": "a73a9bbd-be78-4df5-fcda-034de91923d2"
      },
      "execution_count": 12,
      "outputs": [
        {
          "output_type": "stream",
          "name": "stdout",
          "text": [
            "['data', 22.45, True, 10, 20, 30]\n"
          ]
        }
      ]
    },
    {
      "cell_type": "code",
      "source": [
        "a=[10,'data',22.45,True,10,20,30]\n",
        "print(a[: : 2])"
      ],
      "metadata": {
        "colab": {
          "base_uri": "https://localhost:8080/"
        },
        "id": "zlFDcXRYtthQ",
        "outputId": "d620e9a8-f0d3-49d8-8f4c-77069875b9f8"
      },
      "execution_count": 14,
      "outputs": [
        {
          "output_type": "stream",
          "name": "stdout",
          "text": [
            "[10, 22.45, 10, 30]\n"
          ]
        }
      ]
    },
    {
      "cell_type": "markdown",
      "source": [
        "** Proving that List is Immutable or Mutable**"
      ],
      "metadata": {
        "id": "Ui-jJVNOuCvV"
      }
    },
    {
      "cell_type": "code",
      "source": [
        "a=[10,20,30,40,50]\n",
        "print(a)"
      ],
      "metadata": {
        "colab": {
          "base_uri": "https://localhost:8080/"
        },
        "id": "bZCxAHuEuBdb",
        "outputId": "e357eb34-3e1b-4525-f2de-ebf06c1a52b2"
      },
      "execution_count": 15,
      "outputs": [
        {
          "output_type": "stream",
          "name": "stdout",
          "text": [
            "[10, 20, 30, 40, 50]\n"
          ]
        }
      ]
    },
    {
      "cell_type": "markdown",
      "source": [
        "  \n",
        "  \n",
        "  To Prove the list is mutable or Immutable  we can have some built-in functions in the list. As List is capale of increasing or decreasing the memory with help of built-in functions. We have:\n",
        "\n",
        "    1. Append\n",
        "    2. Extend\n",
        "    3. Insert\n",
        "\n",
        "    These methods are used for increasing the memory.\n",
        "\n",
        "\n",
        "\n",
        "     "
      ],
      "metadata": {
        "id": "bG1m8hKXuM80"
      }
    },
    {
      "cell_type": "code",
      "source": [
        "a=[10,20,30,40,50]      # append will take only one input and that input is added to the last item in the list\n",
        "a.append(60)\n",
        "print(a)"
      ],
      "metadata": {
        "colab": {
          "base_uri": "https://localhost:8080/"
        },
        "id": "b25JSEvUu_-u",
        "outputId": "c0a4e0dd-644e-41cd-e9f9-ed582f0d88cb"
      },
      "execution_count": 18,
      "outputs": [
        {
          "output_type": "stream",
          "name": "stdout",
          "text": [
            "[10, 20, 30, 40, 50, 60]\n"
          ]
        }
      ]
    },
    {
      "cell_type": "code",
      "source": [
        "a=[10,200,30,40,50]     # extend function will tale multiple values but add to the end of the list\n",
        "a.extend([60,70,80,90,100])\n",
        "print(a)"
      ],
      "metadata": {
        "colab": {
          "base_uri": "https://localhost:8080/"
        },
        "id": "McUWm-HwvUMj",
        "outputId": "d998fa36-4061-4d4b-df7e-c94b198a494d"
      },
      "execution_count": 20,
      "outputs": [
        {
          "output_type": "stream",
          "name": "stdout",
          "text": [
            "[10, 200, 30, 40, 50, 60, 70, 80, 90, 100]\n"
          ]
        }
      ]
    },
    {
      "cell_type": "code",
      "source": [
        "a=[10,200,30,40,50]     # insert function will tale the value whwerever we want and that exsisting value will move to the right side\n",
        "a.insert(4,100)\n",
        "print(a)\n",
        "\n"
      ],
      "metadata": {
        "colab": {
          "base_uri": "https://localhost:8080/"
        },
        "id": "zbvHbXQFwKRF",
        "outputId": "6befbf75-f3b9-4594-a29a-c32a5c480158"
      },
      "execution_count": 23,
      "outputs": [
        {
          "output_type": "stream",
          "name": "stdout",
          "text": [
            "[10, 200, 30, 40, 100, 50]\n"
          ]
        }
      ]
    },
    {
      "cell_type": "markdown",
      "source": [
        "   \n",
        "    Now we have to decrease the memory size using 2 functtions\n",
        "\n",
        "    1. pop\n",
        "    2. remove"
      ],
      "metadata": {
        "id": "3Y8S1IXiw54u"
      }
    },
    {
      "cell_type": "code",
      "source": [
        "a=[10,20,30,40,50]         # defaulty pop will remove last element\n",
        "a.pop()\n",
        "print(a)"
      ],
      "metadata": {
        "colab": {
          "base_uri": "https://localhost:8080/"
        },
        "id": "gtVFklKmxFGR",
        "outputId": "44d56c10-0cb8-4ece-a340-f8f7f05e4cae"
      },
      "execution_count": 24,
      "outputs": [
        {
          "output_type": "stream",
          "name": "stdout",
          "text": [
            "[10, 20, 30, 40]\n"
          ]
        }
      ]
    },
    {
      "cell_type": "code",
      "source": [
        "a=[10,20,30,40,50]         # giving particular index and pop the element\n",
        "a.pop(2)\n",
        "print(a)"
      ],
      "metadata": {
        "colab": {
          "base_uri": "https://localhost:8080/"
        },
        "id": "w1GXBpEZxXPO",
        "outputId": "16a14647-4da2-4a01-e640-e2a41807e751"
      },
      "execution_count": 25,
      "outputs": [
        {
          "output_type": "stream",
          "name": "stdout",
          "text": [
            "[10, 20, 40, 50]\n"
          ]
        }
      ]
    },
    {
      "cell_type": "code",
      "source": [
        "a=[10,20,30,40,50]         # remove function will particularly remove the element we want\n",
        "a.remove(10)\n",
        "print(a)"
      ],
      "metadata": {
        "colab": {
          "base_uri": "https://localhost:8080/"
        },
        "id": "VW1Chg2Oxjaq",
        "outputId": "83ee06bd-27d5-4532-b192-1b09868503f1"
      },
      "execution_count": 27,
      "outputs": [
        {
          "output_type": "stream",
          "name": "stdout",
          "text": [
            "[20, 30, 40, 50]\n"
          ]
        }
      ]
    },
    {
      "cell_type": "code",
      "source": [],
      "metadata": {
        "id": "j0mM0kKhxy2g"
      },
      "execution_count": null,
      "outputs": []
    },
    {
      "cell_type": "code",
      "source": [],
      "metadata": {
        "id": "dxylKFp4x3zu"
      },
      "execution_count": null,
      "outputs": []
    },
    {
      "cell_type": "markdown",
      "source": [
        "** From the above operations we can say that \"List is Mutable\"**"
      ],
      "metadata": {
        "id": "lysEm-7ix2YR"
      }
    },
    {
      "cell_type": "code",
      "source": [],
      "metadata": {
        "id": "YNFz4GGXx_Cj"
      },
      "execution_count": null,
      "outputs": []
    },
    {
      "cell_type": "markdown",
      "source": [
        "** Few more functions in the list: **\n",
        "\n",
        "\n",
        "   1. count\n",
        "   2. index\n",
        "   3. reverse\n",
        "   4. sort\n",
        "   5. clear\n",
        "   6. copy\n"
      ],
      "metadata": {
        "id": "bA8_DD1QyLsP"
      }
    },
    {
      "cell_type": "code",
      "source": [
        "a=[10,20,30,40,40,50]\n",
        "print(a.count(10))"
      ],
      "metadata": {
        "colab": {
          "base_uri": "https://localhost:8080/"
        },
        "id": "7lNJhPKHyeVY",
        "outputId": "cb83faae-b096-412e-97c9-27427002ecad"
      },
      "execution_count": 53,
      "outputs": [
        {
          "output_type": "stream",
          "name": "stdout",
          "text": [
            "1\n"
          ]
        }
      ]
    },
    {
      "cell_type": "code",
      "source": [
        "a=[10,20,30,40,40,50]\n",
        "print(a.count(40))"
      ],
      "metadata": {
        "colab": {
          "base_uri": "https://localhost:8080/"
        },
        "id": "zrWXqfyK2dpj",
        "outputId": "701f7965-c7ff-4e9a-f85f-6a32e0803637"
      },
      "execution_count": 54,
      "outputs": [
        {
          "output_type": "stream",
          "name": "stdout",
          "text": [
            "2\n"
          ]
        }
      ]
    },
    {
      "cell_type": "code",
      "source": [
        "a=[10,20,30,40,40,50]\n",
        "print(a.index(50))"
      ],
      "metadata": {
        "colab": {
          "base_uri": "https://localhost:8080/"
        },
        "id": "LlzoEC072i6N",
        "outputId": "af81d5f5-14b6-4851-f2c3-0b8979da067b"
      },
      "execution_count": 60,
      "outputs": [
        {
          "output_type": "stream",
          "name": "stdout",
          "text": [
            "5\n"
          ]
        }
      ]
    },
    {
      "cell_type": "code",
      "source": [
        "a=[10,20,30,40,50]\n",
        "a.reverse()\n",
        "print(a)"
      ],
      "metadata": {
        "colab": {
          "base_uri": "https://localhost:8080/"
        },
        "id": "mFXDci6B3FBt",
        "outputId": "bbad49fc-911f-4336-ae6a-01530a4a8294"
      },
      "execution_count": 62,
      "outputs": [
        {
          "output_type": "stream",
          "name": "stdout",
          "text": [
            "[50, 40, 30, 20, 10]\n"
          ]
        }
      ]
    },
    {
      "cell_type": "code",
      "source": [
        "a=[10,50,40,30,20]\n",
        "a.sort()\n",
        "print(a)"
      ],
      "metadata": {
        "colab": {
          "base_uri": "https://localhost:8080/"
        },
        "id": "hvJGGtb33cO3",
        "outputId": "b2337c25-3c13-40b3-ce53-32d8674a40d4"
      },
      "execution_count": 63,
      "outputs": [
        {
          "output_type": "stream",
          "name": "stdout",
          "text": [
            "[10, 20, 30, 40, 50]\n"
          ]
        }
      ]
    },
    {
      "cell_type": "code",
      "source": [
        "a=[10,50,40,30,20]  # descending order\n",
        "a.sort(reverse=True)\n",
        "print(a)"
      ],
      "metadata": {
        "colab": {
          "base_uri": "https://localhost:8080/"
        },
        "id": "EcALfR0b3pjr",
        "outputId": "2ffd9716-0e98-4ade-a603-ca8a0e39444f"
      },
      "execution_count": 64,
      "outputs": [
        {
          "output_type": "stream",
          "name": "stdout",
          "text": [
            "[50, 40, 30, 20, 10]\n"
          ]
        }
      ]
    },
    {
      "cell_type": "code",
      "source": [
        "a=[10,50,40,30,20]   # clear function will erase the data in the variable not the variable\n",
        "a.clear()\n",
        "print(a)"
      ],
      "metadata": {
        "colab": {
          "base_uri": "https://localhost:8080/"
        },
        "id": "Ogd7ydMv345t",
        "outputId": "8c5cbf63-7385-48a7-f5d8-8e2c11c23ccc"
      },
      "execution_count": 65,
      "outputs": [
        {
          "output_type": "stream",
          "name": "stdout",
          "text": [
            "[]\n"
          ]
        }
      ]
    },
    {
      "cell_type": "code",
      "source": [
        "a=[10,20,30,40,50]    # deep copy means we are giving b to a and giving this directly is not the good way\n",
        "b=a\n",
        "\n",
        "print(a)\n",
        "print(b)\n",
        "\n",
        "print(id(a))\n",
        "print(id(b))\n",
        "\n",
        "a.append(100)\n",
        "\n",
        "print(a)\n",
        "print(b)"
      ],
      "metadata": {
        "colab": {
          "base_uri": "https://localhost:8080/"
        },
        "id": "3TcnE6QR4OK1",
        "outputId": "ec472ffa-46c1-4b25-aea7-b34b610550bd"
      },
      "execution_count": 66,
      "outputs": [
        {
          "output_type": "stream",
          "name": "stdout",
          "text": [
            "[10, 20, 30, 40, 50]\n",
            "[10, 20, 30, 40, 50]\n",
            "136102089602560\n",
            "136102089602560\n",
            "[10, 20, 30, 40, 50, 100]\n",
            "[10, 20, 30, 40, 50, 100]\n"
          ]
        }
      ]
    },
    {
      "cell_type": "code",
      "source": [
        "a=[10,20,30,40,50]         # shallow copy it is more used\n",
        "b=a.copy()\n",
        "\n",
        "print(a)\n",
        "print(b)\n",
        "\n",
        "print(id(a))\n",
        "print(id(b))\n",
        "\n",
        "a.append(100)\n",
        "\n",
        "print(a)\n",
        "print(b)"
      ],
      "metadata": {
        "colab": {
          "base_uri": "https://localhost:8080/"
        },
        "id": "94MRewIb4ldV",
        "outputId": "9eb3cbf3-eef1-4e83-b212-daf6a5fac044"
      },
      "execution_count": 67,
      "outputs": [
        {
          "output_type": "stream",
          "name": "stdout",
          "text": [
            "[10, 20, 30, 40, 50]\n",
            "[10, 20, 30, 40, 50]\n",
            "136102089613248\n",
            "136102089312448\n",
            "[10, 20, 30, 40, 50, 100]\n",
            "[10, 20, 30, 40, 50]\n"
          ]
        }
      ]
    }
  ]
}