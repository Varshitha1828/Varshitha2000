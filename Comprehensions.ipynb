{
  "nbformat": 4,
  "nbformat_minor": 0,
  "metadata": {
    "colab": {
      "provenance": []
    },
    "kernelspec": {
      "name": "python3",
      "display_name": "Python 3"
    },
    "language_info": {
      "name": "python"
    }
  },
  "cells": [
    {
      "cell_type": "code",
      "execution_count": 2,
      "metadata": {
        "colab": {
          "base_uri": "https://localhost:8080/"
        },
        "id": "jk_XmsAfTs_4",
        "outputId": "744a6c71-fc67-464f-d44d-067b8ecfa15c"
      },
      "outputs": [
        {
          "output_type": "stream",
          "name": "stdout",
          "text": [
            "['good morning', 'good morning', 'good morning', 'good morning', 'good morning', 'good morning']\n"
          ]
        }
      ],
      "source": [
        "# List Comprehensions\n",
        "# syntax: 1\n",
        "\n",
        "print(['good morning' for i in range(11,17)])   # print area and the for loop"
      ]
    },
    {
      "cell_type": "code",
      "source": [
        "# syntax: 2\n",
        "\n",
        "print([f'Even:{i}' for i in range(11,21) if i % 2 == 0])"
      ],
      "metadata": {
        "colab": {
          "base_uri": "https://localhost:8080/"
        },
        "id": "nno3Nq1MUUc2",
        "outputId": "a3c1f85f-6e34-4445-c865-89cc34ccc874"
      },
      "execution_count": 3,
      "outputs": [
        {
          "output_type": "stream",
          "name": "stdout",
          "text": [
            "['Even:12', 'Even:14', 'Even:16', 'Even:18', 'Even:20']\n"
          ]
        }
      ]
    },
    {
      "cell_type": "code",
      "source": [
        "# syntax: 3\n",
        "\n",
        "print([f'Even:{i}' if i % 2 == 0 else f'odd:{i}' for i in range(11,21)])"
      ],
      "metadata": {
        "colab": {
          "base_uri": "https://localhost:8080/"
        },
        "id": "HIUxDc1NVvzg",
        "outputId": "4e929d64-ffc2-44d5-eafd-be395976139d"
      },
      "execution_count": 4,
      "outputs": [
        {
          "output_type": "stream",
          "name": "stdout",
          "text": [
            "['odd:11', 'Even:12', 'odd:13', 'Even:14', 'odd:15', 'Even:16', 'odd:17', 'Even:18', 'odd:19', 'Even:20']\n"
          ]
        }
      ]
    }
  ]
}