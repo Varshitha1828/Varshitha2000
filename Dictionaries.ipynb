{
  "nbformat": 4,
  "nbformat_minor": 0,
  "metadata": {
    "colab": {
      "provenance": []
    },
    "kernelspec": {
      "name": "python3",
      "display_name": "Python 3"
    },
    "language_info": {
      "name": "python"
    }
  },
  "cells": [
    {
      "cell_type": "markdown",
      "source": [
        "** Python Dictionaries**\n",
        "\n",
        "\n",
        "    --   Representation - { }\n",
        "    --  Dictinaries in python work as key:value pair\n",
        "    --  key - column name\n",
        "    --  value - data inside the column\n",
        "    "
      ],
      "metadata": {
        "id": "bPluT-UGLee0"
      }
    },
    {
      "cell_type": "code",
      "source": [
        "a={\"Name\" : \"Varshitha\", \"Age\" : 25, \"Salary\" : 1200}\n",
        "print(a)"
      ],
      "metadata": {
        "colab": {
          "base_uri": "https://localhost:8080/"
        },
        "id": "ungB18uZMKfM",
        "outputId": "c472edb9-77a9-44fd-bc97-ed21e94e5359"
      },
      "execution_count": 2,
      "outputs": [
        {
          "output_type": "stream",
          "name": "stdout",
          "text": [
            "{'Name': 'Varshitha', 'Age': 25, 'Salary': 1200}\n"
          ]
        }
      ]
    },
    {
      "cell_type": "markdown",
      "source": [
        "**  In dictionary we have key:value pair, if we want to access the value use its column [key] value **  \n",
        "\n",
        "-- If we have same column[key] name the previous va;ue will be overide and print the new value"
      ],
      "metadata": {
        "id": "4wnlDz2kMy4B"
      }
    },
    {
      "cell_type": "code",
      "source": [
        "a= {'Name' : 'Varshitha', 'Age' : 25, 'Age': 35, 'Salary': 1200}  # here 25 overide and became 35\n",
        "print(a)"
      ],
      "metadata": {
        "colab": {
          "base_uri": "https://localhost:8080/"
        },
        "id": "VBi4NqboMlcQ",
        "outputId": "2c744562-48a8-4a25-f141-f0dc9d7538dd"
      },
      "execution_count": 3,
      "outputs": [
        {
          "output_type": "stream",
          "name": "stdout",
          "text": [
            "{'Name': 'Varshitha', 'Age': 35, 'Salary': 1200}\n"
          ]
        }
      ]
    },
    {
      "cell_type": "markdown",
      "source": [
        "  ** In place of values we can pass any data types like int,float,string,list,tuple,set\n",
        "\n",
        "  -- \"Inplace of keys mutable datatypes are not possible\"\n",
        "\n",
        "\n",
        "\n",
        "\n",
        "   "
      ],
      "metadata": {
        "id": "kJ12UYaWNt3U"
      }
    },
    {
      "cell_type": "code",
      "source": [
        "a={'Name': ['Varshi', 'likki', 'sahi'], 'Age' : [27,30,35], 'Salary' : [1200,1300,1500]}\n",
        "print(a)"
      ],
      "metadata": {
        "colab": {
          "base_uri": "https://localhost:8080/"
        },
        "id": "g_BRIP7wP_Mc",
        "outputId": "40d95f92-45ab-41ce-dc6d-74813925917d"
      },
      "execution_count": 10,
      "outputs": [
        {
          "output_type": "stream",
          "name": "stdout",
          "text": [
            "{'Name': ['Varshi', 'likki', 'sahi'], 'Age': [27, 30, 35], 'Salary': [1200, 1300, 1500]}\n"
          ]
        }
      ]
    },
    {
      "cell_type": "code",
      "source": [
        "a={[10,20,30] : 'Age'}   we are passing   # we get error because 'Mutable' datatype here in place of keys\n",
        "print(a)"
      ],
      "metadata": {
        "colab": {
          "base_uri": "https://localhost:8080/",
          "height": 159
        },
        "id": "C_xdCaIvQXTy",
        "outputId": "408bc9a0-152c-4b51-de6d-eeb564246652"
      },
      "execution_count": 11,
      "outputs": [
        {
          "output_type": "error",
          "ename": "TypeError",
          "evalue": "unhashable type: 'list'",
          "traceback": [
            "\u001b[0;31m---------------------------------------------------------------------------\u001b[0m",
            "\u001b[0;31mTypeError\u001b[0m                                 Traceback (most recent call last)",
            "\u001b[0;32m<ipython-input-11-89a54744552b>\u001b[0m in \u001b[0;36m<cell line: 0>\u001b[0;34m()\u001b[0m\n\u001b[0;32m----> 1\u001b[0;31m \u001b[0ma\u001b[0m\u001b[0;34m=\u001b[0m\u001b[0;34m{\u001b[0m\u001b[0;34m[\u001b[0m\u001b[0;36m10\u001b[0m\u001b[0;34m,\u001b[0m\u001b[0;36m20\u001b[0m\u001b[0;34m,\u001b[0m\u001b[0;36m30\u001b[0m\u001b[0;34m]\u001b[0m \u001b[0;34m:\u001b[0m \u001b[0;34m'Age'\u001b[0m\u001b[0;34m}\u001b[0m\u001b[0;34m\u001b[0m\u001b[0;34m\u001b[0m\u001b[0m\n\u001b[0m\u001b[1;32m      2\u001b[0m \u001b[0mprint\u001b[0m\u001b[0;34m(\u001b[0m\u001b[0ma\u001b[0m\u001b[0;34m)\u001b[0m\u001b[0;34m\u001b[0m\u001b[0;34m\u001b[0m\u001b[0m\n",
            "\u001b[0;31mTypeError\u001b[0m: unhashable type: 'list'"
          ]
        }
      ]
    },
    {
      "cell_type": "markdown",
      "source": [
        "** Proving python Dictionary is mutable or immutable**\n",
        "\n",
        "\n",
        "    -- If we have the same column name it will overide and if we dont have the column it will cfreate the column and add the value we have given."
      ],
      "metadata": {
        "id": "FOIGPkGIRdag"
      }
    },
    {
      "cell_type": "code",
      "source": [
        "fruits={}              # empty dict and we have created key: value pair and we can see it is increasing the memory size\n",
        "fruits['grapes']= 400\n",
        "fruits['apple']=200\n",
        "print(fruits)"
      ],
      "metadata": {
        "colab": {
          "base_uri": "https://localhost:8080/"
        },
        "id": "QWi_Tl0SRXSz",
        "outputId": "e23215b6-67f2-4810-d251-b4fa34fe1528"
      },
      "execution_count": 13,
      "outputs": [
        {
          "output_type": "stream",
          "name": "stdout",
          "text": [
            "{'grapes': 400, 'apple': 200}\n"
          ]
        }
      ]
    },
    {
      "cell_type": "code",
      "source": [
        "fruits = {'apple':400, 'grapes':300, 'Carrot':450}    # here we are decreaing the memory\n",
        "del fruits['Carrot']\n",
        "print(fruits)"
      ],
      "metadata": {
        "colab": {
          "base_uri": "https://localhost:8080/"
        },
        "id": "zyUqYtTbSYOJ",
        "outputId": "3004fbee-ac6c-456f-9102-e7b072f6e23f"
      },
      "execution_count": 15,
      "outputs": [
        {
          "output_type": "stream",
          "name": "stdout",
          "text": [
            "{'apple': 400, 'grapes': 300}\n"
          ]
        }
      ]
    },
    {
      "cell_type": "markdown",
      "source": [
        "** So from above operations we can say that \"Dictionary is Mutable\" **"
      ],
      "metadata": {
        "id": "sBHsitpqS9BZ"
      }
    },
    {
      "cell_type": "markdown",
      "source": [
        "**  Built-in functions:\n",
        "\n",
        "\n",
        "      1. get\n",
        "      2. updtae\n",
        "      3.pop\n",
        "      4.popitem\n",
        "      5.keys\n",
        "      6.values\n",
        "      7.items\n",
        "      8.clear\n",
        "      9.copy"
      ],
      "metadata": {
        "id": "yaa2gKlOTIvK"
      }
    },
    {
      "cell_type": "code",
      "source": [
        "vegetables = {'carrot' : 200, 'tomato': 300, 'cucumber' : 700}   # get will get the value of required column\n",
        "print(vegetables.get('tomato'))\n",
        "\n",
        "\n"
      ],
      "metadata": {
        "colab": {
          "base_uri": "https://localhost:8080/"
        },
        "id": "S9XcVa7nTdCv",
        "outputId": "82d8449a-147c-4d9f-832f-44c98538859e"
      },
      "execution_count": 22,
      "outputs": [
        {
          "output_type": "stream",
          "name": "stdout",
          "text": [
            "300\n"
          ]
        }
      ]
    },
    {
      "cell_type": "code",
      "source": [
        "fruits={'apple': 200, 'banana': 400, 'grapes': 300}    # update will add the column\n",
        "fruits.update({'dragonfruit': 500})\n",
        "print(fruits)\n"
      ],
      "metadata": {
        "colab": {
          "base_uri": "https://localhost:8080/"
        },
        "id": "oFk6Ea01U7rg",
        "outputId": "b3002916-9388-43cf-9737-e0a5c9ca1d70"
      },
      "execution_count": 41,
      "outputs": [
        {
          "output_type": "stream",
          "name": "stdout",
          "text": [
            "{'apple': 200, 'banana': 400, 'grapes': 300, 'dragonfruit': 500}\n"
          ]
        }
      ]
    },
    {
      "cell_type": "code",
      "source": [
        "fruits={'apple': 300, 'banana':400, 'dragonfruit':900}      # pop removes a required column\n",
        "fruits.pop(('apple'))\n",
        "print(fruits)\n"
      ],
      "metadata": {
        "colab": {
          "base_uri": "https://localhost:8080/"
        },
        "id": "3r_uGJAAYB8e",
        "outputId": "672b7357-281c-49da-f3f2-3deefecba0bc"
      },
      "execution_count": 50,
      "outputs": [
        {
          "output_type": "stream",
          "name": "stdout",
          "text": [
            "{'banana': 400, 'dragonfruit': 900}\n"
          ]
        }
      ]
    },
    {
      "cell_type": "code",
      "source": [
        "fruits={'apple': 300, 'banana':400, 'dragonfruit':900}    # popitems removes last column\n",
        "fruits.popitem()\n",
        "print(fruits)"
      ],
      "metadata": {
        "colab": {
          "base_uri": "https://localhost:8080/"
        },
        "id": "4UyJthCDZGLO",
        "outputId": "bb0aec56-f1e5-439d-b37f-4d0ca76526a8"
      },
      "execution_count": 51,
      "outputs": [
        {
          "output_type": "stream",
          "name": "stdout",
          "text": [
            "{'apple': 300, 'banana': 400}\n"
          ]
        }
      ]
    },
    {
      "cell_type": "code",
      "source": [
        "fruits={'apple': 300, 'banana':400, 'dragonfruit':900}   # only keys will be printed\n",
        "fruits.keys()\n"
      ],
      "metadata": {
        "colab": {
          "base_uri": "https://localhost:8080/"
        },
        "id": "TQ7lD_C_ZhOD",
        "outputId": "b993bc77-7829-4d79-fdfc-8d74f3e77482"
      },
      "execution_count": 52,
      "outputs": [
        {
          "output_type": "execute_result",
          "data": {
            "text/plain": [
              "dict_keys(['apple', 'banana', 'dragonfruit'])"
            ]
          },
          "metadata": {},
          "execution_count": 52
        }
      ]
    },
    {
      "cell_type": "code",
      "source": [
        "fruits={'apple': 300, 'banana':400, 'dragonfruit':900}    # only values will be printed\n",
        "fruits.values()"
      ],
      "metadata": {
        "colab": {
          "base_uri": "https://localhost:8080/"
        },
        "id": "dVOQFjzwZusM",
        "outputId": "cda97e55-fc64-42ae-9884-31d3e1d3622c"
      },
      "execution_count": 53,
      "outputs": [
        {
          "output_type": "execute_result",
          "data": {
            "text/plain": [
              "dict_values([300, 400, 900])"
            ]
          },
          "metadata": {},
          "execution_count": 53
        }
      ]
    },
    {
      "cell_type": "code",
      "source": [
        "fruits={'apple': 300, 'banana':400, 'dragonfruit':900}   # both keys and values will be printed\n",
        "fruits.items()\n"
      ],
      "metadata": {
        "colab": {
          "base_uri": "https://localhost:8080/"
        },
        "id": "taOy8y3sZ7-d",
        "outputId": "8a6a3ec0-85f6-49ab-b932-d9c987ea8a2b"
      },
      "execution_count": 55,
      "outputs": [
        {
          "output_type": "execute_result",
          "data": {
            "text/plain": [
              "dict_items([('apple', 300), ('banana', 400), ('dragonfruit', 900)])"
            ]
          },
          "metadata": {},
          "execution_count": 55
        }
      ]
    },
    {
      "cell_type": "code",
      "source": [
        "fruits={'apple':300, 'banana':400}    # here it be empty dict it will remove the data inside\n",
        "fruits.clear()\n",
        "print(fruits)"
      ],
      "metadata": {
        "colab": {
          "base_uri": "https://localhost:8080/"
        },
        "id": "v8xuzxvAaIYh",
        "outputId": "e0928864-fd30-41a0-acb1-32c4206bb20f"
      },
      "execution_count": 59,
      "outputs": [
        {
          "output_type": "stream",
          "name": "stdout",
          "text": [
            "{}\n"
          ]
        }
      ]
    },
    {
      "cell_type": "code",
      "source": [
        "a={'apple':300, 'banana':400}\n",
        "b=a           # deep copy whatever in 'b' will refelct in 'a' and adress is also same\n",
        "print(a)\n",
        "print(b)\n",
        "print(id(a))\n",
        "print(id(b))\n",
        "a={'carrot':700}\n",
        "print(a)\n",
        "print(b)"
      ],
      "metadata": {
        "colab": {
          "base_uri": "https://localhost:8080/"
        },
        "id": "V3V4gqYKanDW",
        "outputId": "e1710f9e-049c-4e76-b466-3f83a00125d3"
      },
      "execution_count": 60,
      "outputs": [
        {
          "output_type": "stream",
          "name": "stdout",
          "text": [
            "{'apple': 300, 'banana': 400}\n",
            "{'apple': 300, 'banana': 400}\n",
            "132275332324288\n",
            "132275332324288\n",
            "{'carrot': 700}\n",
            "{'apple': 300, 'banana': 400}\n"
          ]
        }
      ]
    },
    {
      "cell_type": "code",
      "source": [
        "a={'apple':300, 'banana':400}\n",
        "b=a.copy()           # shallow copy whatever in 'b' willnot refelct in 'a' and adress is also not same\n",
        "print(a)\n",
        "print(b)\n",
        "print(id(a))\n",
        "print(id(b))\n",
        "a={'carrot':700}\n",
        "print(a)\n",
        "print(b)"
      ],
      "metadata": {
        "colab": {
          "base_uri": "https://localhost:8080/"
        },
        "id": "PrZ_aVTQbOUO",
        "outputId": "d43a1e4d-8dbc-44b7-dc78-a544551a4694"
      },
      "execution_count": 61,
      "outputs": [
        {
          "output_type": "stream",
          "name": "stdout",
          "text": [
            "{'apple': 300, 'banana': 400}\n",
            "{'apple': 300, 'banana': 400}\n",
            "132275332005376\n",
            "132275332185472\n",
            "{'carrot': 700}\n",
            "{'apple': 300, 'banana': 400}\n"
          ]
        }
      ]
    }
  ]
}